{
  "nbformat": 4,
  "nbformat_minor": 0,
  "metadata": {
    "colab": {
      "name": "Untitled58.ipynb",
      "provenance": [],
      "authorship_tag": "ABX9TyOQj8mi+hE2A+EOGueRiZXg",
      "include_colab_link": true
    },
    "kernelspec": {
      "name": "python3",
      "display_name": "Python 3"
    },
    "language_info": {
      "name": "python"
    }
  },
  "cells": [
    {
      "cell_type": "markdown",
      "metadata": {
        "id": "view-in-github",
        "colab_type": "text"
      },
      "source": [
        "<a href=\"https://colab.research.google.com/github/Nagmashaik123/Legal-SA/blob/main/PartyLabelDataProcess.ipynb\" target=\"_parent\"><img src=\"https://colab.research.google.com/assets/colab-badge.svg\" alt=\"Open In Colab\"/></a>"
      ]
    },
    {
      "cell_type": "code",
      "metadata": {
        "id": "j8E6x0ZNUAQA"
      },
      "source": [
        "import pandas as pd\n",
        "import csv\n",
        "\n",
        "\n",
        "df = pd.read_csv(\"SigmaLaw-ABSA.csv\")\n",
        "file_name = 'SigmaLaw-ABSA-PartyLabel'\n",
        "\n",
        "\n",
        "count=0\n",
        "partyLabelList=[]\n",
        "lst1=[]\n",
        "list2=[]\n",
        "with open('%s.csv' % (file_name), 'w+') as file:\n",
        "    w = csv.writer(file)\n",
        "    w.writerow(['Sentence', 'Party', 'PartyLabel','Sentiment','Overall Sentiment'])\n",
        "    for index, row in df.iterrows():\n",
        "        count = count+1\n",
        "\n",
        "        party = row[\"Party\"]\n",
        "        #party = \"[[lee,[]]\"\n",
        "        aspectArray = party.split('],[')\n",
        "        try:\n",
        "\n",
        "            partyLabelList = []\n",
        "            list1 = []\n",
        "            list2 = []\n",
        "            if ',' in aspectArray[0]:\n",
        "                list1 = [1] * (aspectArray[0].count(',') + 1)\n",
        "            else:\n",
        "                str1 = aspectArray[0].replace('[', \"\").replace(']', \"\")\n",
        "                if not len(str1) == 0:\n",
        "                    list1 = [1]\n",
        "            if ',' in aspectArray[1]:\n",
        "                list2 = [0] * (aspectArray[1].count(',') + 1)\n",
        "            else:\n",
        "                str2 = aspectArray[1].replace('[', \"\").replace(']', \"\")\n",
        "                if not len(str2) == 0:\n",
        "                    list2 = [0]\n",
        "        except Exception as ex:\n",
        "            print(party+\":\"+str(row))\n",
        "            print('====\\n')\n",
        "\n",
        "\n",
        "\n",
        "        partyLabelList.append(list1)\n",
        "        partyLabelList.append(list2)\n",
        "\n",
        "        w.writerow([row[\"Sentence\"], row[\"Party\"],\"\".join(str(partyLabelList)), row[\"Sentiment\"],row[\"Overall Sentiment\"]])\n",
        "\n",
        "\n",
        "\n",
        "\n"
      ],
      "execution_count": null,
      "outputs": []
    }
  ]
}