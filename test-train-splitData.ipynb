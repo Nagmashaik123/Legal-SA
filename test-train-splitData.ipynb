{
  "nbformat": 4,
  "nbformat_minor": 0,
  "metadata": {
    "colab": {
      "name": "Untitled58.ipynb",
      "provenance": [],
      "authorship_tag": "ABX9TyNKWGDTZbrmkCRaiBNqF34c",
      "include_colab_link": true
    },
    "kernelspec": {
      "name": "python3",
      "display_name": "Python 3"
    },
    "language_info": {
      "name": "python"
    }
  },
  "cells": [
    {
      "cell_type": "markdown",
      "metadata": {
        "id": "view-in-github",
        "colab_type": "text"
      },
      "source": [
        "<a href=\"https://colab.research.google.com/github/Nagmashaik123/Legal-SA/blob/main/test-train-splitData.ipynb\" target=\"_parent\"><img src=\"https://colab.research.google.com/assets/colab-badge.svg\" alt=\"Open In Colab\"/></a>"
      ]
    },
    {
      "cell_type": "code",
      "metadata": {
        "id": "j8E6x0ZNUAQA"
      },
      "source": [
        "\n",
        "import pandas as pd\n",
        "import numpy as np\n",
        "from sklearn.model_selection import train_test_split\n",
        "dataset= pd.read_csv(\"Part1.csv\")\n",
        "\n",
        "\n",
        "def clean_dataset(dataSet):\n",
        "    assert isinstance(dataSet, pd.DataFrame)\n",
        "    dataSet.dropna(inplace=True)\n",
        "    indices_to_keep = ~dataSet.isin([np.nan, np.inf, -np.inf]).any(1)\n",
        "    return dataSet[indices_to_keep]\n",
        "\n",
        "df= clean_dataset(dataset)\n",
        "y = df['PartyLabel']\n",
        "X = df[['Sentence','Party','Sentiment']]\n",
        "\n",
        "print(y.value_counts())\n",
        "X_train, X_test, y_train, y_test = train_test_split( X, y, test_size=0.2, random_state=73, shuffle =True,)\n",
        "\n",
        "X_train.to_csv(\"SigmaLaw-ABSA-train-x.csv\")\n",
        "\n",
        "X_test.to_csv(\"SigmaLaw-ABSA-test-x.csv\")\n",
        "y_train.to_csv(\"SigmaLaw-ABSA-train-y.csv\")\n",
        "y_test.to_csv(\"SigmaLaw-ABSA-test-y.csv\")"
      ],
      "execution_count": null,
      "outputs": []
    }
  ]
}