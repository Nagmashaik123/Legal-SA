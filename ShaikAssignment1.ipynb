{
  "cells": [
    {
      "cell_type": "markdown",
      "metadata": {
        "id": "view-in-github",
        "colab_type": "text"
      },
      "source": [
        "<a href=\"https://colab.research.google.com/github/Nagmashaik123/Legal-SA/blob/main/ShaikAssignment1.ipynb\" target=\"_parent\"><img src=\"https://colab.research.google.com/assets/colab-badge.svg\" alt=\"Open In Colab\"/></a>"
      ]
    },
    {
      "cell_type": "markdown",
      "source": [
        "**Linear Regression Def :**\n",
        "\n",
        "---\n",
        "\n",
        "\n",
        "1. Linear Regression is a Supervised learning Algorithm in Machine Learning.\n",
        "2. Linear regression can be termed as a linear model, can be better explained through an e.g. it is a model that presume that the input variables (x) and the single output variable (y) exist linearly. Which mean that the value of y can be calculated and computed from a linear combination of the input variables (x)."
      ],
      "metadata": {
        "id": "zt7xr3NeIucW"
      }
    },
    {
      "cell_type": "markdown",
      "source": [
        "**Dataset:**\n",
        "\n",
        "---\n",
        "\n",
        "\n",
        "Here, the dataset considered for I took the Monset.csv dataset, which contains 6 columns, they are\n",
        "PRICE 2. HEIGHT 3. WIDTH 4. SIGNED 5. PICTURE 6. HOUSE"
      ],
      "metadata": {
        "id": "SDsBBZlPI1zT"
      }
    },
    {
      "cell_type": "code",
      "source": [
        "# Importing all the necessary libraries\n",
        "import numpy as np\n",
        "import pandas as pd\n",
        "import matplotlib.pyplot as plt\n",
        "import seaborn as sns\n",
        "from sklearn.linear_model import LinearRegression\n",
        "from sklearn.metrics import accuracy_score\n",
        "from sklearn.metrics import mean_squared_error\n",
        "from math import sqrt\n",
        "from sklearn.preprocessing import MinMaxScaler\n",
        "from sklearn import preprocessing\n"
      ],
      "metadata": {
        "id": "_787HKloKmvo"
      },
      "execution_count": 2,
      "outputs": []
    },
    {
      "cell_type": "code",
      "source": [
        "# Reading the dataset\n",
        "monet_df=pd.read_csv(\"/content/monet.csv\")"
      ],
      "metadata": {
        "id": "dUSX5rsvK4bw"
      },
      "execution_count": 4,
      "outputs": []
    },
    {
      "cell_type": "code",
      "source": [
        "monet_df.head()\n",
        "monet_df.shape"
      ],
      "metadata": {
        "id": "E7tFTeMZLBX5",
        "outputId": "14601117-4338-483b-8d17-a7601a90b776",
        "colab": {
          "base_uri": "https://localhost:8080/"
        }
      },
      "execution_count": 5,
      "outputs": [
        {
          "output_type": "execute_result",
          "data": {
            "text/plain": [
              "(430, 6)"
            ]
          },
          "metadata": {},
          "execution_count": 5
        }
      ]
    },
    {
      "cell_type": "markdown",
      "source": [
        "**Model One:**\n",
        "\n",
        "---\n",
        "\n",
        "\n",
        "Model one is created by combining two attributes that lead to the creation of new column in the frame.\n",
        "\n",
        "**SIZE** = Product of **WIDTH** and **HEIGHT**"
      ],
      "metadata": {
        "id": "s4wnUgMQMEVx"
      }
    },
    {
      "cell_type": "code",
      "source": [
        "monet_df['SIZE']=monet_df['HEIGHT']*monet_df['WIDTH']"
      ],
      "metadata": {
        "id": "wZwIFSrvMGDm"
      },
      "execution_count": 6,
      "outputs": []
    },
    {
      "cell_type": "code",
      "source": [
        "monet_df.to_csv(\"/content/monet_new.csv\",index=False )"
      ],
      "metadata": {
        "id": "1tnIWnn8MVeZ"
      },
      "execution_count": 7,
      "outputs": []
    },
    {
      "cell_type": "code",
      "source": [
        ""
      ],
      "metadata": {
        "id": "E2AiozXYMjLs"
      },
      "execution_count": null,
      "outputs": []
    }
  ],
  "metadata": {
    "colab": {
      "collapsed_sections": [],
      "name": "ShaikAssignment1",
      "provenance": [],
      "include_colab_link": true
    },
    "kernelspec": {
      "display_name": "Python 3",
      "name": "python3"
    }
  },
  "nbformat": 4,
  "nbformat_minor": 0
}