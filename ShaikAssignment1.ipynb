{
  "cells": [
    {
      "cell_type": "markdown",
      "metadata": {
        "id": "view-in-github",
        "colab_type": "text"
      },
      "source": [
        "<a href=\"https://colab.research.google.com/github/Nagmashaik123/Legal-SA/blob/main/ShaikAssignment1.ipynb\" target=\"_parent\"><img src=\"https://colab.research.google.com/assets/colab-badge.svg\" alt=\"Open In Colab\"/></a>"
      ]
    },
    {
      "cell_type": "markdown",
      "source": [
        "**Linear Regression Def :**\n",
        "\n",
        "---\n",
        "\n",
        "\n",
        "1. Linear Regression is a Supervised learning Algorithm in Machine Learning.\n",
        "2. Linear regression can be termed as a linear model, can be better explained through an e.g. it is a model that presume that the input variables (x) and the single output variable (y) exist linearly. Which mean that the value of y can be calculated and computed from a linear combination of the input variables (x)."
      ],
      "metadata": {
        "id": "zt7xr3NeIucW"
      }
    },
    {
      "cell_type": "markdown",
      "source": [
        "**Dataset:**\n",
        "\n",
        "---\n",
        "\n",
        "\n",
        "Here, the dataset considered for I took the Monset.csv dataset, which contains 6 columns, they are\n",
        "PRICE 2. HEIGHT 3. WIDTH 4. SIGNED 5. PICTURE 6. HOUSE"
      ],
      "metadata": {
        "id": "SDsBBZlPI1zT"
      }
    },
    {
      "cell_type": "code",
      "source": [
        "# Importing all the necessary libraries\n",
        "import numpy as np\n",
        "import pandas as pd\n",
        "import matplotlib.pyplot as plt\n",
        "import seaborn as sns\n",
        "from sklearn.linear_model import LinearRegression\n",
        "from sklearn.metrics import accuracy_score\n",
        "from sklearn.metrics import mean_squared_error\n",
        "from math import sqrt\n",
        "from sklearn.preprocessing import MinMaxScaler\n",
        "from sklearn import preprocessing\n"
      ],
      "metadata": {
        "id": "_787HKloKmvo"
      },
      "execution_count": 1,
      "outputs": []
    },
    {
      "cell_type": "code",
      "source": [
        "# Reading the dataset\n",
        "monet_df=pd.read_csv(\"/content/monet.csv\")"
      ],
      "metadata": {
        "id": "dUSX5rsvK4bw"
      },
      "execution_count": 2,
      "outputs": []
    },
    {
      "cell_type": "code",
      "source": [
        "monet_df.head()\n",
        "monet_df.shape"
      ],
      "metadata": {
        "id": "E7tFTeMZLBX5",
        "outputId": "37cc027f-f668-47ed-ee3b-3a55a5b1cbe3",
        "colab": {
          "base_uri": "https://localhost:8080/"
        }
      },
      "execution_count": 3,
      "outputs": [
        {
          "output_type": "execute_result",
          "data": {
            "text/plain": [
              "(430, 6)"
            ]
          },
          "metadata": {},
          "execution_count": 3
        }
      ]
    },
    {
      "cell_type": "markdown",
      "source": [
        "**Model One:**\n",
        "\n",
        "---\n",
        "\n",
        "\n",
        "Model one is created by combining two attributes that lead to the creation of new column in the frame.\n",
        "\n",
        "**SIZE** = Product of **WIDTH** and **HEIGHT**"
      ],
      "metadata": {
        "id": "s4wnUgMQMEVx"
      }
    },
    {
      "cell_type": "code",
      "source": [
        "monet_df['SIZE']=monet_df['HEIGHT']*monet_df['WIDTH']"
      ],
      "metadata": {
        "id": "wZwIFSrvMGDm"
      },
      "execution_count": 4,
      "outputs": []
    },
    {
      "cell_type": "code",
      "source": [
        "monet_df.to_csv(\"/content/monet_new.csv\",index=False )"
      ],
      "metadata": {
        "id": "1tnIWnn8MVeZ"
      },
      "execution_count": 5,
      "outputs": []
    },
    {
      "cell_type": "code",
      "source": [
        "monet_df=pd.read_csv(\"/content/monet_new.csv\")"
      ],
      "metadata": {
        "id": "CZZWtbtwQo20"
      },
      "execution_count": 6,
      "outputs": []
    },
    {
      "cell_type": "markdown",
      "source": [
        "**Data Preparation:**\n",
        "\n",
        "---\n",
        "\n",
        "\n",
        "1. The input/predictor variable in this use case is X. This is used to predict output variable.\n",
        "2. The output variable is in this use case is Y. This is the variable we want to predict from the input.\n",
        " \n",
        "This can be demonstrated as follows\n",
        "X = SIZE (Input)\n",
        "Y = PRICE (Output)\n"
      ],
      "metadata": {
        "id": "Mo6DntynNlKB"
      }
    },
    {
      "cell_type": "markdown",
      "source": [
        "**Data Division for computation:**\n",
        "\n",
        "---\n",
        "\n",
        "iloc function is used to segregate the columns.\n",
        "\n"
      ],
      "metadata": {
        "id": "fXXKh5aEO777"
      }
    },
    {
      "cell_type": "code",
      "source": [
        "#Data division for SIZE\n",
        "\n",
        "X= monet_df.iloc[:,-1:]\n",
        "size= X['SIZE']\n",
        "size"
      ],
      "metadata": {
        "colab": {
          "base_uri": "https://localhost:8080/"
        },
        "id": "LV2bBl4HQKhd",
        "outputId": "3831da0d-0095-4a54-e67b-e83e4c9cf844"
      },
      "execution_count": 7,
      "outputs": [
        {
          "output_type": "execute_result",
          "data": {
            "text/plain": [
              "0       545.28\n",
              "1       816.64\n",
              "2       109.71\n",
              "3       822.40\n",
              "4       822.40\n",
              "        ...   \n",
              "425    1008.64\n",
              "426    1025.64\n",
              "427    1013.76\n",
              "428    1008.64\n",
              "429     822.40\n",
              "Name: SIZE, Length: 430, dtype: float64"
            ]
          },
          "metadata": {},
          "execution_count": 7
        }
      ]
    },
    {
      "cell_type": "code",
      "source": [
        "# Data division for PRICE\n",
        "\n",
        "Y=monet_df.iloc[:, :1]\n",
        "price= Y['PRICE']\n",
        "price"
      ],
      "metadata": {
        "colab": {
          "base_uri": "https://localhost:8080/"
        },
        "id": "TO8F_ZIjQ9ry",
        "outputId": "e3b5c024-a35b-45ad-da59-b7d6ecdf5e9c"
      },
      "execution_count": 8,
      "outputs": [
        {
          "output_type": "execute_result",
          "data": {
            "text/plain": [
              "0      3.993780\n",
              "1      8.800000\n",
              "2      0.131694\n",
              "3      2.037500\n",
              "4      1.487500\n",
              "         ...   \n",
              "425    5.282500\n",
              "426    9.352500\n",
              "427    8.252500\n",
              "428    3.410000\n",
              "429    1.542500\n",
              "Name: PRICE, Length: 430, dtype: float64"
            ]
          },
          "metadata": {},
          "execution_count": 8
        }
      ]
    },
    {
      "cell_type": "markdown",
      "source": [
        "**Data Visualization : **\n",
        "\n",
        "---\n",
        "we draw the scatter plot for visualization purpose for the original data .\n"
      ],
      "metadata": {
        "id": "kYsBYRzXRcMi"
      }
    },
    {
      "cell_type": "code",
      "source": [
        "sns.regplot(test_data_size, test_data_price, scatter_kws={\"color\": \"black\"}, line_kws={\"color\": \"red\"}).set(title='Data visulation for original data PricevsSize')"
      ],
      "metadata": {
        "colab": {
          "base_uri": "https://localhost:8080/",
          "height": 352
        },
        "id": "X1SMGYJSRvki",
        "outputId": "05731331-0e05-44d7-d5d2-5a2e5c368171"
      },
      "execution_count": 30,
      "outputs": [
        {
          "output_type": "stream",
          "name": "stderr",
          "text": [
            "/usr/local/lib/python3.7/dist-packages/seaborn/_decorators.py:43: FutureWarning: Pass the following variables as keyword args: x, y. From version 0.12, the only valid positional argument will be `data`, and passing other arguments without an explicit keyword will result in an error or misinterpretation.\n",
            "  FutureWarning\n"
          ]
        },
        {
          "output_type": "execute_result",
          "data": {
            "text/plain": [
              "[Text(0.5, 1.0, 'Data visulation for original data PricevsSize')]"
            ]
          },
          "metadata": {},
          "execution_count": 30
        },
        {
          "output_type": "display_data",
          "data": {
            "image/png": "[encoded data removed]",
            "text/plain": [
              "<Figure size 432x288 with 1 Axes>"
            ]
          },
          "metadata": {
            "needs_background": "light"
          }
        }
      ]
    },
    {
      "cell_type": "code",
      "source": [
        "!pip install sklearn"
      ],
      "metadata": {
        "colab": {
          "base_uri": "https://localhost:8080/"
        },
        "id": "i2aYWGd_W79v",
        "outputId": "f6da3a0f-f57c-45e3-d5c2-0df4b9458353"
      },
      "execution_count": 10,
      "outputs": [
        {
          "output_type": "stream",
          "name": "stdout",
          "text": [
            "Requirement already satisfied: sklearn in /usr/local/lib/python3.7/dist-packages (0.0)\n",
            "Requirement already satisfied: scikit-learn in /usr/local/lib/python3.7/dist-packages (from sklearn) (1.0.2)\n",
            "Requirement already satisfied: threadpoolctl>=2.0.0 in /usr/local/lib/python3.7/dist-packages (from scikit-learn->sklearn) (3.0.0)\n",
            "Requirement already satisfied: numpy>=1.14.6 in /usr/local/lib/python3.7/dist-packages (from scikit-learn->sklearn) (1.19.5)\n",
            "Requirement already satisfied: joblib>=0.11 in /usr/local/lib/python3.7/dist-packages (from scikit-learn->sklearn) (1.1.0)\n",
            "Requirement already satisfied: scipy>=1.1.0 in /usr/local/lib/python3.7/dist-packages (from scikit-learn->sklearn) (1.4.1)\n"
          ]
        }
      ]
    },
    {
      "cell_type": "markdown",
      "source": [
        "**Data Splitting:** \n",
        "\n",
        "---\n",
        "\n",
        "\n",
        "Using the library sklearn.model_selection having train_test_split method, we divide the data into training and testing sets.\n",
        "\n",
        "In this usecase the data is divided into 80:20 then seperating the data into dataframes.\n",
        "\n"
      ],
      "metadata": {
        "id": "18CGsD5vUnQT"
      }
    },
    {
      "cell_type": "code",
      "source": [
        "from sklearn.model_selection import train_test_split\n",
        "train_data, test_data = train_test_split(monet_df,test_size =0.2,random_state=0)"
      ],
      "metadata": {
        "id": "VhibS1sDVlKH"
      },
      "execution_count": 11,
      "outputs": []
    },
    {
      "cell_type": "code",
      "source": [
        "# Test data splitting\n",
        "test_data_size= test_data['SIZE'].values\n",
        "test_data_size= test_data_size.reshape(-1,1)\n",
        "test_data_price=test_data['PRICE'].values\n",
        "test_data_price= test_data_price.reshape(-1,1)\n",
        "\n",
        "# Train data splitting\n",
        "train_data_size= train_data['SIZE'].values\n",
        "train_data_size= train_data_size.reshape(-1,1)\n",
        "train_data_price=train_data['PRICE'].values\n",
        "train_data_price= train_data_price.reshape(-1,1)"
      ],
      "metadata": {
        "id": "qNCuwZJSXSHu"
      },
      "execution_count": 12,
      "outputs": []
    },
    {
      "cell_type": "markdown",
      "source": [
        "**Training Model:**\n",
        "\n",
        "---\n",
        "Since Linear Regression model has to be implemented we can achive this by using library of sklearn.linear_model having  LinearRegression method. Then model is trained using the traning data."
      ],
      "metadata": {
        "id": "FbgY4M06ZRAA"
      }
    },
    {
      "cell_type": "code",
      "source": [
        "# Preparing the model for prediction :\n",
        "\n",
        "Linear_model = LinearRegression()\n",
        "Linear_model.fit(train_data_size,train_data_price)"
      ],
      "metadata": {
        "colab": {
          "base_uri": "https://localhost:8080/"
        },
        "id": "tuP84hYMahOV",
        "outputId": "a4fbeb1d-1fb9-45db-d528-eb0e6b6549f5"
      },
      "execution_count": 13,
      "outputs": [
        {
          "output_type": "execute_result",
          "data": {
            "text/plain": [
              "LinearRegression()"
            ]
          },
          "metadata": {},
          "execution_count": 13
        }
      ]
    },
    {
      "cell_type": "markdown",
      "source": [
        "**Predicting the values:**\n",
        "\n",
        "---\n",
        "\n",
        "After training the model. By implementing the Linear Regression model, the values are predicted using testing data."
      ],
      "metadata": {
        "id": "GpOD6LLcb71m"
      }
    },
    {
      "cell_type": "code",
      "source": [
        "Predicting_values= Linear_model.predict(test_data_size)\n",
        "Predicting_values"
      ],
      "metadata": {
        "colab": {
          "base_uri": "https://localhost:8080/"
        },
        "id": "3YlE0QtScUFS",
        "outputId": "e7ec29ae-2190-4e0d-b337-07ae6d50d6ae"
      },
      "execution_count": 14,
      "outputs": [
        {
          "output_type": "execute_result",
          "data": {
            "text/plain": [
              "array([[ 3.18280891],\n",
              "       [ 1.78902985],\n",
              "       [ 3.14642788],\n",
              "       [ 1.94273049],\n",
              "       [ 3.00641606],\n",
              "       [ 2.47025533],\n",
              "       [ 1.31405538],\n",
              "       [ 2.7418268 ],\n",
              "       [ 2.08508502],\n",
              "       [12.70172913],\n",
              "       [ 2.80696353],\n",
              "       [ 4.4316151 ],\n",
              "       [ 3.7619654 ],\n",
              "       [ 2.92180262],\n",
              "       [ 2.34668847],\n",
              "       [ 3.64737896],\n",
              "       [ 2.99465654],\n",
              "       [ 2.56097821],\n",
              "       [ 2.99465654],\n",
              "       [ 3.51846059],\n",
              "       [ 3.80946285],\n",
              "       [ 3.21275894],\n",
              "       [ 2.59529213],\n",
              "       [ 2.7418268 ],\n",
              "       [ 3.26218568],\n",
              "       [ 1.36527361],\n",
              "       [ 2.80519501],\n",
              "       [ 3.22603434],\n",
              "       [ 1.77570851],\n",
              "       [ 3.75291608],\n",
              "       [ 2.34870963],\n",
              "       [ 3.25899316],\n",
              "       [ 3.29732644],\n",
              "       [ 3.11631707],\n",
              "       [ 2.74035686],\n",
              "       [ 7.98799794],\n",
              "       [ 2.73450007],\n",
              "       [ 3.32920578],\n",
              "       [10.03296057],\n",
              "       [ 1.95210136],\n",
              "       [ 2.2702286 ],\n",
              "       [ 2.57714755],\n",
              "       [ 3.18280891],\n",
              "       [ 5.17551975],\n",
              "       [ 2.87899061],\n",
              "       [ 2.42183917],\n",
              "       [ 2.72278648],\n",
              "       [ 7.83004826],\n",
              "       [ 2.7418268 ],\n",
              "       [ 2.2702286 ],\n",
              "       [ 3.7619654 ],\n",
              "       [ 1.49664953],\n",
              "       [ 2.95120143],\n",
              "       [ 2.28979718],\n",
              "       [ 2.16476038],\n",
              "       [ 2.62459906],\n",
              "       [ 4.4316151 ],\n",
              "       [ 3.03498803],\n",
              "       [ 3.25240139],\n",
              "       [ 1.95210136],\n",
              "       [ 3.0018225 ],\n",
              "       [ 2.76833167],\n",
              "       [ 3.19185823],\n",
              "       [ 3.77620545],\n",
              "       [ 1.78076143],\n",
              "       [ 2.44352079],\n",
              "       [ 1.9702    ],\n",
              "       [ 3.23094945],\n",
              "       [ 2.75505627],\n",
              "       [ 2.60254996],\n",
              "       [ 1.97323175],\n",
              "       [ 2.12938994],\n",
              "       [ 2.7418268 ],\n",
              "       [ 2.42677725],\n",
              "       [ 2.24386155],\n",
              "       [ 2.43267998],\n",
              "       [ 5.42308985],\n",
              "       [ 1.48975918],\n",
              "       [ 2.63148941],\n",
              "       [ 2.55661432],\n",
              "       [ 4.25062869],\n",
              "       [ 2.57361051],\n",
              "       [ 2.25045331],\n",
              "       [ 2.75505627],\n",
              "       [ 3.0018225 ],\n",
              "       [ 3.54147435]])"
            ]
          },
          "metadata": {},
          "execution_count": 14
        }
      ]
    },
    {
      "cell_type": "markdown",
      "source": [
        "**Model Evaluation - by calculating errors:**\n",
        "\n",
        "---\n",
        "\n",
        "\n",
        "The model evaluation is done using Scikit-learn library\n",
        "● Mean Absolute error\n",
        "● Mean squared error\n",
        "● Root mean squared error"
      ],
      "metadata": {
        "id": "WLawMjG3eCjd"
      }
    },
    {
      "cell_type": "code",
      "source": [
        "from sklearn.metrics import mean_absolute_error \n",
        "test_data= test_data_price.flatten()\n",
        "absolute_error= mean_absolute_error(test_data,Predicting_values)\n",
        "sqrd_error=mean_squared_error(test_data,Predicting_values)\n",
        "mean_sqrd_error= np.sqrt(sqrd_error)\n",
        "\n",
        "print(\"Mean Absolute Error: \", absolute_error, \"Mean Squared Error: \",sqrd_error, \" Root Mean Squared Error: \",mean_sqerd_error)"
      ],
      "metadata": {
        "id": "sVl5eOVfllHE",
        "outputId": "96f6d535-7480-4a2d-e804-1e363a2c37fd",
        "colab": {
          "base_uri": "https://localhost:8080/"
        }
      },
      "execution_count": 23,
      "outputs": [
        {
          "output_type": "stream",
          "name": "stdout",
          "text": [
            "Mean Absolute Error:  2.6855486941004547 Mean Squared Error:  16.35922009540488  Root Mean Squared Error:  4.044653272581579\n"
          ]
        }
      ]
    },
    {
      "cell_type": "markdown",
      "source": [
        "**Data Visualisation for traning and testing data:**\n",
        "\n",
        "---\n",
        "\n",
        "Visualization graphs are drawn below"
      ],
      "metadata": {
        "id": "s_YoWnQuoH24"
      }
    },
    {
      "cell_type": "code",
      "source": [
        "sns.regplot(test_data_size, test_data_price, scatter_kws={\"color\": \"red\"}, line_kws={\"color\": \"green\"}).set(title='Testing Data Plot')"
      ],
      "metadata": {
        "id": "YRxMudIrooov",
        "outputId": "1dae0ba8-eb0b-432a-d251-582d5a3aee73",
        "colab": {
          "base_uri": "https://localhost:8080/",
          "height": 352
        }
      },
      "execution_count": 27,
      "outputs": [
        {
          "output_type": "stream",
          "name": "stderr",
          "text": [
            "/usr/local/lib/python3.7/dist-packages/seaborn/_decorators.py:43: FutureWarning: Pass the following variables as keyword args: x, y. From version 0.12, the only valid positional argument will be `data`, and passing other arguments without an explicit keyword will result in an error or misinterpretation.\n",
            "  FutureWarning\n"
          ]
        },
        {
          "output_type": "execute_result",
          "data": {
            "text/plain": [
              "[Text(0.5, 1.0, 'Testing Data Plot')]"
            ]
          },
          "metadata": {},
          "execution_count": 27
        },
        {
          "output_type": "display_data",
          "data": {
            "image/png": "[encoded data removed]",
            "text/plain": [
              "<Figure size 432x288 with 1 Axes>"
            ]
          },
          "metadata": {
            "needs_background": "light"
          }
        }
      ]
    },
    {
      "cell_type": "code",
      "source": [
        "sns.regplot(train_data_size, train_data_price, scatter_kws={\"color\": \"red\"}, line_kws={\"color\": \"green\"}).set(title='Training Data Plot')"
      ],
      "metadata": {
        "id": "TyCiMpP6pbLI",
        "outputId": "4ad1e96f-1d11-4230-9949-c669fc952896",
        "colab": {
          "base_uri": "https://localhost:8080/",
          "height": 352
        }
      },
      "execution_count": 29,
      "outputs": [
        {
          "output_type": "stream",
          "name": "stderr",
          "text": [
            "/usr/local/lib/python3.7/dist-packages/seaborn/_decorators.py:43: FutureWarning: Pass the following variables as keyword args: x, y. From version 0.12, the only valid positional argument will be `data`, and passing other arguments without an explicit keyword will result in an error or misinterpretation.\n",
            "  FutureWarning\n"
          ]
        },
        {
          "output_type": "execute_result",
          "data": {
            "text/plain": [
              "[Text(0.5, 1.0, 'Training Data Plot')]"
            ]
          },
          "metadata": {},
          "execution_count": 29
        },
        {
          "output_type": "display_data",
          "data": {
            "image/png": "[encoded data removed]",
            "text/plain": [
              "<Figure size 432x288 with 1 Axes>"
            ]
          },
          "metadata": {
            "needs_background": "light"
          }
        }
      ]
    }
  ],
  "metadata": {
    "colab": {
      "collapsed_sections": [],
      "name": "ShaikAssignment1",
      "provenance": [],
      "include_colab_link": true
    },
    "kernelspec": {
      "display_name": "Python 3",
      "name": "python3"
    }
  },
  "nbformat": 4,
  "nbformat_minor": 0
}