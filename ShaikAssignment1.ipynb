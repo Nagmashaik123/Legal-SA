{
  "cells": [
    {
      "cell_type": "markdown",
      "metadata": {
        "id": "view-in-github",
        "colab_type": "text"
      },
      "source": [
        "<a href=\"https://colab.research.google.com/github/Nagmashaik123/Legal-SA/blob/main/ShaikAssignment1.ipynb\" target=\"_parent\"><img src=\"https://colab.research.google.com/assets/colab-badge.svg\" alt=\"Open In Colab\"/></a>"
      ]
    },
    {
      "cell_type": "markdown",
      "source": [
        "**Linear Regression Def :**\n",
        "\n",
        "---\n",
        "\n",
        "\n",
        "1. Linear Regression is a Supervised learning Algorithm in Machine Learning.\n",
        "2. Linear regression can be termed as a linear model, can be better explained through an e.g. it is a model that presume that the input variables (x) and the single output variable (y) exist linearly. Which mean that the value of y can be calculated and computed from a linear combination of the input variables (x)."
      ],
      "metadata": {
        "id": "zt7xr3NeIucW"
      }
    },
    {
      "cell_type": "markdown",
      "source": [
        "**Dataset:**\n",
        "\n",
        "---\n",
        "\n",
        "\n",
        "Here, the dataset considered for I took the Monset.csv dataset, which contains 6 columns, they are\n",
        "PRICE 2. HEIGHT 3. WIDTH 4. SIGNED 5. PICTURE 6. HOUSE"
      ],
      "metadata": {
        "id": "SDsBBZlPI1zT"
      }
    },
    {
      "cell_type": "code",
      "source": [
        "# Importing all the necessary libraries\n",
        "import numpy as np\n",
        "import pandas as pd\n",
        "import matplotlib.pyplot as plt\n",
        "import seaborn as sns\n",
        "from sklearn.linear_model import LinearRegression\n",
        "from sklearn.metrics import accuracy_score\n",
        "from sklearn.metrics import mean_squared_error\n",
        "from math import sqrt\n",
        "from sklearn.preprocessing import MinMaxScaler\n",
        "from sklearn import preprocessing\n"
      ],
      "metadata": {
        "id": "_787HKloKmvo"
      },
      "execution_count": 47,
      "outputs": []
    },
    {
      "cell_type": "code",
      "source": [
        "# Reading the dataset\n",
        "monet_df=pd.read_csv(\"/content/monet.csv\")"
      ],
      "metadata": {
        "id": "dUSX5rsvK4bw"
      },
      "execution_count": 48,
      "outputs": []
    },
    {
      "cell_type": "code",
      "source": [
        "monet_df.head()\n",
        "monet_df.shape"
      ],
      "metadata": {
        "id": "E7tFTeMZLBX5",
        "outputId": "8f5a7400-62dd-4ca6-f828-aae2189f8219",
        "colab": {
          "base_uri": "https://localhost:8080/"
        }
      },
      "execution_count": 49,
      "outputs": [
        {
          "output_type": "execute_result",
          "data": {
            "text/plain": [
              "(430, 6)"
            ]
          },
          "metadata": {},
          "execution_count": 49
        }
      ]
    },
    {
      "cell_type": "markdown",
      "source": [
        "**Model One:**\n",
        "\n",
        "---\n",
        "\n",
        "\n",
        "Model one is created by combining two attributes that lead to the creation of new column in the frame.\n",
        "\n",
        "**SIZE** = Product of **WIDTH** and **HEIGHT**"
      ],
      "metadata": {
        "id": "s4wnUgMQMEVx"
      }
    },
    {
      "cell_type": "code",
      "source": [
        "monet_df['SIZE']=monet_df['HEIGHT']*monet_df['WIDTH']"
      ],
      "metadata": {
        "id": "wZwIFSrvMGDm"
      },
      "execution_count": 50,
      "outputs": []
    },
    {
      "cell_type": "code",
      "source": [
        "monet_df.to_csv(\"/content/monet_new.csv\",index=False )"
      ],
      "metadata": {
        "id": "1tnIWnn8MVeZ"
      },
      "execution_count": 51,
      "outputs": []
    },
    {
      "cell_type": "code",
      "source": [
        "monet_df=pd.read_csv(\"/content/monet_new.csv\")"
      ],
      "metadata": {
        "id": "CZZWtbtwQo20"
      },
      "execution_count": 52,
      "outputs": []
    },
    {
      "cell_type": "markdown",
      "source": [
        "**Data Preparation:**\n",
        "\n",
        "---\n",
        "\n",
        "\n",
        "1. The input/predictor variable in this use case is X. This is used to predict output variable.\n",
        "2. The output variable is in this use case is Y. This is the variable we want to predict from the input.\n",
        " \n",
        "This can be demonstrated as follows\n",
        "X = SIZE (Input)\n",
        "Y = PRICE (Output)\n"
      ],
      "metadata": {
        "id": "Mo6DntynNlKB"
      }
    },
    {
      "cell_type": "markdown",
      "source": [
        "**Data Division for computation:**\n",
        "\n",
        "---\n",
        "\n",
        "iloc function is used to segregate the columns.\n",
        "\n"
      ],
      "metadata": {
        "id": "fXXKh5aEO777"
      }
    },
    {
      "cell_type": "code",
      "source": [
        "#Data division for SIZE\n",
        "\n",
        "X= monet_df.iloc[:,-1:]\n",
        "size= X['SIZE']\n",
        "size"
      ],
      "metadata": {
        "colab": {
          "base_uri": "https://localhost:8080/"
        },
        "id": "LV2bBl4HQKhd",
        "outputId": "df36f002-81e6-4b75-e6c9-e05b062a8203"
      },
      "execution_count": 53,
      "outputs": [
        {
          "output_type": "execute_result",
          "data": {
            "text/plain": [
              "0       545.28\n",
              "1       816.64\n",
              "2       109.71\n",
              "3       822.40\n",
              "4       822.40\n",
              "        ...   \n",
              "425    1008.64\n",
              "426    1025.64\n",
              "427    1013.76\n",
              "428    1008.64\n",
              "429     822.40\n",
              "Name: SIZE, Length: 430, dtype: float64"
            ]
          },
          "metadata": {},
          "execution_count": 53
        }
      ]
    },
    {
      "cell_type": "code",
      "source": [
        "# Data division for PRICE\n",
        "\n",
        "Y=monet_df.iloc[:, :1]\n",
        "price= Y['PRICE']\n",
        "price"
      ],
      "metadata": {
        "colab": {
          "base_uri": "https://localhost:8080/"
        },
        "id": "TO8F_ZIjQ9ry",
        "outputId": "c514e449-b2a9-4edd-fe77-061d1877c8fa"
      },
      "execution_count": 54,
      "outputs": [
        {
          "output_type": "execute_result",
          "data": {
            "text/plain": [
              "0      3.993780\n",
              "1      8.800000\n",
              "2      0.131694\n",
              "3      2.037500\n",
              "4      1.487500\n",
              "         ...   \n",
              "425    5.282500\n",
              "426    9.352500\n",
              "427    8.252500\n",
              "428    3.410000\n",
              "429    1.542500\n",
              "Name: PRICE, Length: 430, dtype: float64"
            ]
          },
          "metadata": {},
          "execution_count": 54
        }
      ]
    },
    {
      "cell_type": "markdown",
      "source": [
        "**Data Visualisation:**\n",
        "\n",
        "---\n",
        "we draw the scatter plot for visualization purpose for the original data .\n"
      ],
      "metadata": {
        "id": "kYsBYRzXRcMi"
      }
    },
    {
      "cell_type": "code",
      "source": [
        "sns.regplot(size, price, scatter_kws={\"color\": \"black\"}, line_kws={\"color\": \"red\"}).set(title='Data visulation for original data PricevsSize')"
      ],
      "metadata": {
        "colab": {
          "base_uri": "https://localhost:8080/",
          "height": 366
        },
        "id": "X1SMGYJSRvki",
        "outputId": "5c52c74a-9f5e-4c42-fa54-caebaed79313"
      },
      "execution_count": 55,
      "outputs": [
        {
          "output_type": "stream",
          "name": "stderr",
          "text": [
            "/usr/local/lib/python3.7/dist-packages/seaborn/_decorators.py:43: FutureWarning: Pass the following variables as keyword args: x, y. From version 0.12, the only valid positional argument will be `data`, and passing other arguments without an explicit keyword will result in an error or misinterpretation.\n",
            "  FutureWarning\n"
          ]
        },
        {
          "output_type": "execute_result",
          "data": {
            "text/plain": [
              "[Text(0.5, 1.0, 'Data visulation for original data PricevsSize')]"
            ]
          },
          "metadata": {},
          "execution_count": 55
        },
        {
          "output_type": "display_data",
          "data": {
            "image/png": "[encoded data removed]",
            "text/plain": [
              "<Figure size 432x288 with 1 Axes>"
            ]
          },
          "metadata": {
            "needs_background": "light"
          }
        }
      ]
    },
    {
      "cell_type": "code",
      "source": [
        "!pip install sklearn"
      ],
      "metadata": {
        "colab": {
          "base_uri": "https://localhost:8080/"
        },
        "id": "i2aYWGd_W79v",
        "outputId": "c69e7feb-e4a4-4ac2-de92-56816a014492"
      },
      "execution_count": 56,
      "outputs": [
        {
          "output_type": "stream",
          "name": "stdout",
          "text": [
            "Requirement already satisfied: sklearn in /usr/local/lib/python3.7/dist-packages (0.0)\n",
            "Requirement already satisfied: scikit-learn in /usr/local/lib/python3.7/dist-packages (from sklearn) (1.0.2)\n",
            "Requirement already satisfied: threadpoolctl>=2.0.0 in /usr/local/lib/python3.7/dist-packages (from scikit-learn->sklearn) (3.0.0)\n",
            "Requirement already satisfied: joblib>=0.11 in /usr/local/lib/python3.7/dist-packages (from scikit-learn->sklearn) (1.1.0)\n",
            "Requirement already satisfied: scipy>=1.1.0 in /usr/local/lib/python3.7/dist-packages (from scikit-learn->sklearn) (1.4.1)\n",
            "Requirement already satisfied: numpy>=1.14.6 in /usr/local/lib/python3.7/dist-packages (from scikit-learn->sklearn) (1.19.5)\n"
          ]
        }
      ]
    },
    {
      "cell_type": "markdown",
      "source": [
        "**Data Splitting:** \n",
        "\n",
        "---\n",
        "\n",
        "\n",
        "Using the library sklearn.model_selection having train_test_split method, we divide the data into training and testing sets.\n",
        "\n",
        "In this usecase the data is divided into 80:20 then seperating the data into dataframes.\n",
        "\n"
      ],
      "metadata": {
        "id": "18CGsD5vUnQT"
      }
    },
    {
      "cell_type": "code",
      "source": [
        "from sklearn.model_selection import train_test_split\n",
        "train_data, test_data = train_test_split(monet_df,test_size =0.2,random_state=0)"
      ],
      "metadata": {
        "id": "VhibS1sDVlKH"
      },
      "execution_count": 57,
      "outputs": []
    },
    {
      "cell_type": "code",
      "source": [
        "# Test data splitting\n",
        "test_data_size= test_data['SIZE'].values\n",
        "test_data_size= test_data_size.reshape(-1,1)\n",
        "test_data_price=test_data['PRICE'].values\n",
        "test_data_price= test_data_price.reshape(-1,1)\n",
        "\n",
        "# Train data splitting\n",
        "train_data_size= train_data['SIZE'].values\n",
        "train_data_size= train_data_size.reshape(-1,1)\n",
        "train_data_price=train_data['PRICE'].values\n",
        "train_data_price= train_data_price.reshape(-1,1)"
      ],
      "metadata": {
        "id": "qNCuwZJSXSHu"
      },
      "execution_count": 58,
      "outputs": []
    },
    {
      "cell_type": "markdown",
      "source": [
        "**Training Model:**\n",
        "\n",
        "---\n",
        "Since Linear Regression model has to be implemented we can achive this by using library of sklearn.linear_model having  LinearRegression method. Then model is trained using the traning data."
      ],
      "metadata": {
        "id": "FbgY4M06ZRAA"
      }
    },
    {
      "cell_type": "code",
      "source": [
        "# Preparing the model for prediction :\n",
        "\n",
        "Linear_model = LinearRegression()\n",
        "Linear_model.fit(train_data_size,train_data_price)"
      ],
      "metadata": {
        "colab": {
          "base_uri": "https://localhost:8080/"
        },
        "id": "tuP84hYMahOV",
        "outputId": "cf379894-362a-4980-f03d-67d4da24f9a9"
      },
      "execution_count": 59,
      "outputs": [
        {
          "output_type": "execute_result",
          "data": {
            "text/plain": [
              "LinearRegression()"
            ]
          },
          "metadata": {},
          "execution_count": 59
        }
      ]
    },
    {
      "cell_type": "markdown",
      "source": [
        "**Predicting the values:**\n",
        "\n",
        "---\n",
        "\n",
        "After training the model. By implementing the Linear Regression model, the values are predicted using testing data."
      ],
      "metadata": {
        "id": "GpOD6LLcb71m"
      }
    },
    {
      "cell_type": "code",
      "source": [
        "Predicting_values= Linear_model.predict(test_data_size)\n",
        "Predicting_values"
      ],
      "metadata": {
        "colab": {
          "base_uri": "https://localhost:8080/"
        },
        "id": "3YlE0QtScUFS",
        "outputId": "2d51d31f-5229-450b-e8af-ceec03a6cbaf"
      },
      "execution_count": 60,
      "outputs": [
        {
          "output_type": "execute_result",
          "data": {
            "text/plain": [
              "array([[ 3.18280891],\n",
              "       [ 1.78902985],\n",
              "       [ 3.14642788],\n",
              "       [ 1.94273049],\n",
              "       [ 3.00641606],\n",
              "       [ 2.47025533],\n",
              "       [ 1.31405538],\n",
              "       [ 2.7418268 ],\n",
              "       [ 2.08508502],\n",
              "       [12.70172913],\n",
              "       [ 2.80696353],\n",
              "       [ 4.4316151 ],\n",
              "       [ 3.7619654 ],\n",
              "       [ 2.92180262],\n",
              "       [ 2.34668847],\n",
              "       [ 3.64737896],\n",
              "       [ 2.99465654],\n",
              "       [ 2.56097821],\n",
              "       [ 2.99465654],\n",
              "       [ 3.51846059],\n",
              "       [ 3.80946285],\n",
              "       [ 3.21275894],\n",
              "       [ 2.59529213],\n",
              "       [ 2.7418268 ],\n",
              "       [ 3.26218568],\n",
              "       [ 1.36527361],\n",
              "       [ 2.80519501],\n",
              "       [ 3.22603434],\n",
              "       [ 1.77570851],\n",
              "       [ 3.75291608],\n",
              "       [ 2.34870963],\n",
              "       [ 3.25899316],\n",
              "       [ 3.29732644],\n",
              "       [ 3.11631707],\n",
              "       [ 2.74035686],\n",
              "       [ 7.98799794],\n",
              "       [ 2.73450007],\n",
              "       [ 3.32920578],\n",
              "       [10.03296057],\n",
              "       [ 1.95210136],\n",
              "       [ 2.2702286 ],\n",
              "       [ 2.57714755],\n",
              "       [ 3.18280891],\n",
              "       [ 5.17551975],\n",
              "       [ 2.87899061],\n",
              "       [ 2.42183917],\n",
              "       [ 2.72278648],\n",
              "       [ 7.83004826],\n",
              "       [ 2.7418268 ],\n",
              "       [ 2.2702286 ],\n",
              "       [ 3.7619654 ],\n",
              "       [ 1.49664953],\n",
              "       [ 2.95120143],\n",
              "       [ 2.28979718],\n",
              "       [ 2.16476038],\n",
              "       [ 2.62459906],\n",
              "       [ 4.4316151 ],\n",
              "       [ 3.03498803],\n",
              "       [ 3.25240139],\n",
              "       [ 1.95210136],\n",
              "       [ 3.0018225 ],\n",
              "       [ 2.76833167],\n",
              "       [ 3.19185823],\n",
              "       [ 3.77620545],\n",
              "       [ 1.78076143],\n",
              "       [ 2.44352079],\n",
              "       [ 1.9702    ],\n",
              "       [ 3.23094945],\n",
              "       [ 2.75505627],\n",
              "       [ 2.60254996],\n",
              "       [ 1.97323175],\n",
              "       [ 2.12938994],\n",
              "       [ 2.7418268 ],\n",
              "       [ 2.42677725],\n",
              "       [ 2.24386155],\n",
              "       [ 2.43267998],\n",
              "       [ 5.42308985],\n",
              "       [ 1.48975918],\n",
              "       [ 2.63148941],\n",
              "       [ 2.55661432],\n",
              "       [ 4.25062869],\n",
              "       [ 2.57361051],\n",
              "       [ 2.25045331],\n",
              "       [ 2.75505627],\n",
              "       [ 3.0018225 ],\n",
              "       [ 3.54147435]])"
            ]
          },
          "metadata": {},
          "execution_count": 60
        }
      ]
    },
    {
      "cell_type": "markdown",
      "source": [
        "**Model Evaluation - by calculating errors:**\n",
        "\n",
        "---\n",
        "\n",
        "\n",
        "The model evaluation is done using Scikit-learn library\n",
        "● Mean Absolute error\n",
        "● Mean squared error\n",
        "● Root mean squared error"
      ],
      "metadata": {
        "id": "WLawMjG3eCjd"
      }
    },
    {
      "cell_type": "code",
      "source": [
        "from sklearn.metrics import mean_absolute_error \n",
        "test_data= test_data_price.flatten()\n",
        "absolute_error= mean_absolute_error(test_data,Predicting_values)\n",
        "sqrd_error=mean_squared_error(test_data,Predicting_values)\n",
        "mean_sqrd_error= np.sqrt(sqrd_error)\n",
        "\n",
        "print(\"Mean Absolute Error: \", absolute_error, \"Mean Squared Error: \",sqrd_error, \" Root Mean Squared Error: \",mean_sqerd_error)"
      ],
      "metadata": {
        "id": "sVl5eOVfllHE",
        "outputId": "b1492092-37ce-4f92-9c15-6562a8c594b1",
        "colab": {
          "base_uri": "https://localhost:8080/"
        }
      },
      "execution_count": 61,
      "outputs": [
        {
          "output_type": "stream",
          "name": "stdout",
          "text": [
            "Mean Absolute Error:  2.6855486941004547 Mean Squared Error:  16.35922009540488  Root Mean Squared Error:  4.044653272581579\n"
          ]
        }
      ]
    },
    {
      "cell_type": "markdown",
      "source": [
        "**Data Visualisation for traning and testing data:**\n",
        "\n",
        "---\n",
        "\n",
        "Visualization graphs are drawn below"
      ],
      "metadata": {
        "id": "s_YoWnQuoH24"
      }
    },
    {
      "cell_type": "code",
      "source": [
        "sns.regplot(test_data_size, test_data_price, scatter_kws={\"color\": \"red\"}, line_kws={\"color\": \"green\"}).set(title='Testing Data Plot')"
      ],
      "metadata": {
        "id": "YRxMudIrooov",
        "outputId": "31a29c6b-ea71-41fe-efc0-fc0e4ae8c34e",
        "colab": {
          "base_uri": "https://localhost:8080/",
          "height": 352
        }
      },
      "execution_count": 62,
      "outputs": [
        {
          "output_type": "stream",
          "name": "stderr",
          "text": [
            "/usr/local/lib/python3.7/dist-packages/seaborn/_decorators.py:43: FutureWarning: Pass the following variables as keyword args: x, y. From version 0.12, the only valid positional argument will be `data`, and passing other arguments without an explicit keyword will result in an error or misinterpretation.\n",
            "  FutureWarning\n"
          ]
        },
        {
          "output_type": "execute_result",
          "data": {
            "text/plain": [
              "[Text(0.5, 1.0, 'Testing Data Plot')]"
            ]
          },
          "metadata": {},
          "execution_count": 62
        },
        {
          "output_type": "display_data",
          "data": {
            "image/png": "[encoded data removed]",
            "text/plain": [
              "<Figure size 432x288 with 1 Axes>"
            ]
          },
          "metadata": {
            "needs_background": "light"
          }
        }
      ]
    },
    {
      "cell_type": "code",
      "source": [
        "sns.regplot(train_data_size, train_data_price, scatter_kws={\"color\": \"red\"}, line_kws={\"color\": \"green\"}).set(title='Training Data Plot')"
      ],
      "metadata": {
        "id": "TyCiMpP6pbLI",
        "outputId": "b8949c5e-85cd-42c7-d280-a9804c89f87e",
        "colab": {
          "base_uri": "https://localhost:8080/",
          "height": 352
        }
      },
      "execution_count": 63,
      "outputs": [
        {
          "output_type": "stream",
          "name": "stderr",
          "text": [
            "/usr/local/lib/python3.7/dist-packages/seaborn/_decorators.py:43: FutureWarning: Pass the following variables as keyword args: x, y. From version 0.12, the only valid positional argument will be `data`, and passing other arguments without an explicit keyword will result in an error or misinterpretation.\n",
            "  FutureWarning\n"
          ]
        },
        {
          "output_type": "execute_result",
          "data": {
            "text/plain": [
              "[Text(0.5, 1.0, 'Training Data Plot')]"
            ]
          },
          "metadata": {},
          "execution_count": 63
        },
        {
          "output_type": "display_data",
          "data": {
            "image/png": "[encoded data removed]",
            "text/plain": [
              "<Figure size 432x288 with 1 Axes>"
            ]
          },
          "metadata": {
            "needs_background": "light"
          }
        }
      ]
    },
    {
      "cell_type": "markdown",
      "source": [
        "**Model One Conclusion:**\n",
        "\n",
        "---\n",
        "It is evident that the values are very approximate to the linear line, which verdicts that there ocuurs minimal errors. Hence based on the accuracy this is proven to be best fit and the model is performing well in predicting jobs."
      ],
      "metadata": {
        "id": "qp8afJyqqpDU"
      }
    },
    {
      "cell_type": "markdown",
      "source": [
        "**Building Model Two:**\n",
        "\n",
        "---\n",
        "\n",
        "\n",
        "Model two is created by using two attributes width and price as independent and dependent variables. Where\n",
        "X stores the values of width and is an independent variable. Y stores the values of price and is a dependable variable. \n"
      ],
      "metadata": {
        "id": "LXjXkiphtFm_"
      }
    },
    {
      "cell_type": "code",
      "source": [
        "# Reading the dataset\n",
        "monet_df=pd.read_csv(\"/content/monet.csv\")\n",
        "monet_df.head()\n",
        "monet_df.shape"
      ],
      "metadata": {
        "id": "ZxwRREbnt5st",
        "outputId": "52f1ceb3-cda6-42c0-848b-5ce407b72637",
        "colab": {
          "base_uri": "https://localhost:8080/"
        }
      },
      "execution_count": 64,
      "outputs": [
        {
          "output_type": "execute_result",
          "data": {
            "text/plain": [
              "(430, 6)"
            ]
          },
          "metadata": {},
          "execution_count": 64
        }
      ]
    },
    {
      "cell_type": "markdown",
      "source": [
        "**Data Division for computation - Model Two:**\n",
        "\n",
        "---\n",
        "iloc function is used to segregate the columns.\n",
        "\n"
      ],
      "metadata": {
        "id": "m9qG7mV9wc6z"
      }
    },
    {
      "cell_type": "code",
      "source": [
        "#Data division for Width\n",
        "\n",
        "X= monet_df.iloc[:,2:]\n",
        "X2= X['WIDTH']\n",
        "X2"
      ],
      "metadata": {
        "id": "hqIjSP46wkyV",
        "outputId": "44b448d2-d71c-4649-d1d1-17e7a5236de3",
        "colab": {
          "base_uri": "https://localhost:8080/"
        }
      },
      "execution_count": 65,
      "outputs": [
        {
          "output_type": "execute_result",
          "data": {
            "text/plain": [
              "0      25.6\n",
              "1      25.6\n",
              "2      15.9\n",
              "3      32.0\n",
              "4      32.0\n",
              "       ... \n",
              "425    39.4\n",
              "426    39.6\n",
              "427    39.6\n",
              "428    39.4\n",
              "429    32.0\n",
              "Name: WIDTH, Length: 430, dtype: float64"
            ]
          },
          "metadata": {},
          "execution_count": 65
        }
      ]
    },
    {
      "cell_type": "code",
      "source": [
        "# Data division for PRICE\n",
        "\n",
        "Y=monet_df.iloc[:, :1]\n",
        "Y2= Y['PRICE']\n",
        "Y2"
      ],
      "metadata": {
        "id": "YzM6PCoZw5Sf",
        "outputId": "f60eaf25-4748-42f6-caa1-748c1f0358a0",
        "colab": {
          "base_uri": "https://localhost:8080/"
        }
      },
      "execution_count": 66,
      "outputs": [
        {
          "output_type": "execute_result",
          "data": {
            "text/plain": [
              "0      3.993780\n",
              "1      8.800000\n",
              "2      0.131694\n",
              "3      2.037500\n",
              "4      1.487500\n",
              "         ...   \n",
              "425    5.282500\n",
              "426    9.352500\n",
              "427    8.252500\n",
              "428    3.410000\n",
              "429    1.542500\n",
              "Name: PRICE, Length: 430, dtype: float64"
            ]
          },
          "metadata": {},
          "execution_count": 66
        }
      ]
    },
    {
      "cell_type": "markdown",
      "source": [
        "**Data Visualization:**\n",
        "\n",
        "---\n",
        "\n",
        "\n",
        "Now the scatter plot for visualization purpose is drawn for the segregated data."
      ],
      "metadata": {
        "id": "WUpk-7e4yUVM"
      }
    },
    {
      "cell_type": "code",
      "source": [
        "sns.regplot(X2, Y2, scatter_kws={\"color\": \"black\"}, line_kws={\"color\": \"red\"}).set(title='Data visulation for PricevsWidth')"
      ],
      "metadata": {
        "id": "MxX40AcTyhF6",
        "outputId": "8509f703-9704-4c47-c84b-d54a9af3af87",
        "colab": {
          "base_uri": "https://localhost:8080/",
          "height": 366
        }
      },
      "execution_count": 67,
      "outputs": [
        {
          "output_type": "stream",
          "name": "stderr",
          "text": [
            "/usr/local/lib/python3.7/dist-packages/seaborn/_decorators.py:43: FutureWarning: Pass the following variables as keyword args: x, y. From version 0.12, the only valid positional argument will be `data`, and passing other arguments without an explicit keyword will result in an error or misinterpretation.\n",
            "  FutureWarning\n"
          ]
        },
        {
          "output_type": "execute_result",
          "data": {
            "text/plain": [
              "[Text(0.5, 1.0, 'Data visulation for PricevsWidth')]"
            ]
          },
          "metadata": {},
          "execution_count": 67
        },
        {
          "output_type": "display_data",
          "data": {
            "image/png": "[encoded data removed]",
            "text/plain": [
              "<Figure size 432x288 with 1 Axes>"
            ]
          },
          "metadata": {
            "needs_background": "light"
          }
        }
      ]
    },
    {
      "cell_type": "markdown",
      "source": [
        "**Data Splitting :**\n",
        "\n",
        "---\n",
        "\n",
        "\n",
        "Using the library sklearn.model_selection having train_test_split method, we divide the data into training and testing sets.\n",
        "\n",
        "In this usecase the data is divided into 80:20 then seperating the data into dataframes."
      ],
      "metadata": {
        "id": "imhh2eIXzg2K"
      }
    },
    {
      "cell_type": "code",
      "source": [
        "from sklearn.model_selection import train_test_split\n",
        "train_data, test_data = train_test_split(monet_df,test_size =0.2,random_state=0)\n",
        "# Test data splitting\n",
        "test_data_width= test_data['WIDTH'].values\n",
        "test_data_width= test_data_width.reshape(-1,1)\n",
        "test_data_price=test_data['PRICE'].values\n",
        "test_data_price= test_data_price.reshape(-1,1)\n",
        "\n",
        "# Train data splitting\n",
        "train_data_width= train_data['WIDTH'].values\n",
        "train_data_width= train_data_width.reshape(-1,1)\n",
        "train_data_price=train_data['PRICE'].values\n",
        "train_data_price= train_data_price.reshape(-1,1)"
      ],
      "metadata": {
        "id": "Ae__KCnp0WV_"
      },
      "execution_count": 68,
      "outputs": []
    },
    {
      "cell_type": "markdown",
      "source": [
        "**Training Model Two:**\n",
        "\n",
        "---\n",
        "\n",
        "\n",
        "\n",
        "Since Linear Regression model has to be implemented we can achive this by using library of sklearn.linear_model having LinearRegression method. Then model is trained using the traning data. By considering Width and Price."
      ],
      "metadata": {
        "id": "jmIWyDy10fqh"
      }
    },
    {
      "cell_type": "code",
      "source": [
        "Linear_model = LinearRegression()\n",
        "Linear_model.fit(train_data_width,train_data_price)"
      ],
      "metadata": {
        "id": "blOV1K9N0tXJ",
        "outputId": "455bf4c1-7c6d-492b-cd25-c9d0ff8e40e3",
        "colab": {
          "base_uri": "https://localhost:8080/"
        }
      },
      "execution_count": 69,
      "outputs": [
        {
          "output_type": "execute_result",
          "data": {
            "text/plain": [
              "LinearRegression()"
            ]
          },
          "metadata": {},
          "execution_count": 69
        }
      ]
    },
    {
      "cell_type": "markdown",
      "source": [
        "**Predicting the values:**\n",
        "\n",
        "---\n",
        "After training the model. By implementing the Linear Regression model, the values are predicted using testing data.\n"
      ],
      "metadata": {
        "id": "VyKU9xdj0zkW"
      }
    },
    {
      "cell_type": "code",
      "source": [
        "Predicting_values_two= Linear_model.predict(test_data_width)\n",
        "Predicting_values_two"
      ],
      "metadata": {
        "id": "uQDpee9x04_W",
        "outputId": "42eb92cf-4de2-4ae6-f079-2de126cc9655",
        "colab": {
          "base_uri": "https://localhost:8080/"
        }
      },
      "execution_count": 70,
      "outputs": [
        {
          "output_type": "execute_result",
          "data": {
            "text/plain": [
              "array([[ 4.21047729],\n",
              "       [ 2.50715605],\n",
              "       [ 3.74882948],\n",
              "       [ 1.88631933],\n",
              "       [ 3.73291059],\n",
              "       [ 2.57083161],\n",
              "       [-0.4696764 ],\n",
              "       [ 3.01656053],\n",
              "       [ 2.55491272],\n",
              "       [12.10624679],\n",
              "       [ 3.11207387],\n",
              "       [ 4.21047729],\n",
              "       [ 3.03247942],\n",
              "       [ 3.63739725],\n",
              "       [ 2.60266939],\n",
              "       [ 4.60844954],\n",
              "       [ 3.70107281],\n",
              "       [ 2.93696608],\n",
              "       [ 3.70107281],\n",
              "       [ 3.70107281],\n",
              "       [ 3.70107281],\n",
              "       [ 4.24231507],\n",
              "       [ 3.01656053],\n",
              "       [ 2.01367045],\n",
              "       [ 3.12799276],\n",
              "       [ 1.20180706],\n",
              "       [ 3.04839831],\n",
              "       [ 3.63739725],\n",
              "       [ 1.44059041],\n",
              "       [ 4.21047729],\n",
              "       [ 3.12799276],\n",
              "       [ 2.50715605],\n",
              "       [ 3.74882948],\n",
              "       [ 2.92104719],\n",
              "       [ 3.03247942],\n",
              "       [10.46660111],\n",
              "       [ 3.01656053],\n",
              "       [ 2.60266939],\n",
              "       [10.3233311 ],\n",
              "       [ 1.75896821],\n",
              "       [ 2.50715605],\n",
              "       [ 2.92104719],\n",
              "       [ 2.01367045],\n",
              "       [ 4.22639618],\n",
              "       [ 2.20469714],\n",
              "       [ 2.50715605],\n",
              "       [ 2.98472275],\n",
              "       [ 7.02812084],\n",
              "       [ 3.01656053],\n",
              "       [ 2.50715605],\n",
              "       [ 3.03247942],\n",
              "       [ 0.3262681 ],\n",
              "       [ 3.60555947],\n",
              "       [ 2.57083161],\n",
              "       [ 2.50715605],\n",
              "       [ 3.01656053],\n",
              "       [ 4.21047729],\n",
              "       [ 3.76474837],\n",
              "       [ 3.70107281],\n",
              "       [ 1.75896821],\n",
              "       [ 4.21047729],\n",
              "       [ 3.04839831],\n",
              "       [ 2.02958934],\n",
              "       [ 3.51004613],\n",
              "       [ 0.8197537 ],\n",
              "       [ 2.57083161],\n",
              "       [ 1.07445594],\n",
              "       [ 4.24231507],\n",
              "       [ 3.03247942],\n",
              "       [ 2.95288497],\n",
              "       [ 1.7748871 ],\n",
              "       [ 2.57083161],\n",
              "       [ 2.01367045],\n",
              "       [ 3.01656053],\n",
              "       [ 2.50715605],\n",
              "       [ 2.53899383],\n",
              "       [ 6.12074411],\n",
              "       [ 0.3262681 ],\n",
              "       [ 2.95288497],\n",
              "       [ 3.03247942],\n",
              "       [ 4.21047729],\n",
              "       [ 2.95288497],\n",
              "       [ 2.50715605],\n",
              "       [ 3.03247942],\n",
              "       [ 4.21047729],\n",
              "       [ 3.73291059]])"
            ]
          },
          "metadata": {},
          "execution_count": 70
        }
      ]
    },
    {
      "cell_type": "markdown",
      "source": [
        "**Model Evaluation - by calculating errors:**\n",
        "\n",
        "---\n",
        "\n"
      ],
      "metadata": {
        "id": "6f3-eRPP0-dA"
      }
    },
    {
      "cell_type": "code",
      "source": [
        "from sklearn.metrics import mean_absolute_error \n",
        "test_data= test_data_price.flatten()\n",
        "absolute_error= mean_absolute_error(test_data,Predicting_values_two)\n",
        "sqrd_error=mean_squared_error(test_data,Predicting_values_two)\n",
        "mean_sqrd_error= np.sqrt(sqrd_error)\n",
        "\n",
        "print(\"Mean Absolute Error: \", absolute_error, \"Mean Squared Error: \",sqrd_error, \" Root Mean Squared Error: \",mean_sqerd_error)"
      ],
      "metadata": {
        "id": "gMZRs5n01Dcf",
        "outputId": "aa245758-9103-4516-be13-df2a07155316",
        "colab": {
          "base_uri": "https://localhost:8080/"
        }
      },
      "execution_count": 72,
      "outputs": [
        {
          "output_type": "stream",
          "name": "stdout",
          "text": [
            "Mean Absolute Error:  2.818248782334989 Mean Squared Error:  17.65808260117137  Root Mean Squared Error:  4.044653272581579\n"
          ]
        }
      ]
    },
    {
      "cell_type": "markdown",
      "source": [
        "**Data Visualisation of Model Two for traning and testing data:**\n",
        "\n",
        "---\n",
        "\n"
      ],
      "metadata": {
        "id": "AOJto2ef1O2J"
      }
    },
    {
      "cell_type": "code",
      "source": [
        "sns.regplot(test_data_width, test_data_price, scatter_kws={\"color\": \"red\"}, line_kws={\"color\": \"green\"}).set(title='Model Two-Testing Data Plot')"
      ],
      "metadata": {
        "id": "DPNa8Fhq1V3d",
        "outputId": "8f744ec2-6748-4358-b7bc-ea4a6a305ecc",
        "colab": {
          "base_uri": "https://localhost:8080/",
          "height": 352
        }
      },
      "execution_count": 73,
      "outputs": [
        {
          "output_type": "stream",
          "name": "stderr",
          "text": [
            "/usr/local/lib/python3.7/dist-packages/seaborn/_decorators.py:43: FutureWarning: Pass the following variables as keyword args: x, y. From version 0.12, the only valid positional argument will be `data`, and passing other arguments without an explicit keyword will result in an error or misinterpretation.\n",
            "  FutureWarning\n"
          ]
        },
        {
          "output_type": "execute_result",
          "data": {
            "text/plain": [
              "[Text(0.5, 1.0, 'Model Two-Testing Data Plot')]"
            ]
          },
          "metadata": {},
          "execution_count": 73
        },
        {
          "output_type": "display_data",
          "data": {
            "image/png": "[encoded data removed]",
            "text/plain": [
              "<Figure size 432x288 with 1 Axes>"
            ]
          },
          "metadata": {
            "needs_background": "light"
          }
        }
      ]
    },
    {
      "cell_type": "code",
      "source": [
        "sns.regplot(train_data_width, train_data_price, scatter_kws={\"color\": \"red\"}, line_kws={\"color\": \"green\"}).set(title='Model Two-Training Data Plot')\n"
      ],
      "metadata": {
        "id": "QuiMuOyh1Yyw",
        "outputId": "17d0cc76-eb42-4db3-d82f-74b8cc873fa7",
        "colab": {
          "base_uri": "https://localhost:8080/",
          "height": 352
        }
      },
      "execution_count": 74,
      "outputs": [
        {
          "output_type": "stream",
          "name": "stderr",
          "text": [
            "/usr/local/lib/python3.7/dist-packages/seaborn/_decorators.py:43: FutureWarning: Pass the following variables as keyword args: x, y. From version 0.12, the only valid positional argument will be `data`, and passing other arguments without an explicit keyword will result in an error or misinterpretation.\n",
            "  FutureWarning\n"
          ]
        },
        {
          "output_type": "execute_result",
          "data": {
            "text/plain": [
              "[Text(0.5, 1.0, 'Model Two-Training Data Plot')]"
            ]
          },
          "metadata": {},
          "execution_count": 74
        },
        {
          "output_type": "display_data",
          "data": {
            "image/png": "[encoded data removed]",
            "text/plain": [
              "<Figure size 432x288 with 1 Axes>"
            ]
          },
          "metadata": {
            "needs_background": "light"
          }
        }
      ]
    },
    {
      "cell_type": "markdown",
      "source": [
        "**Model Two Conclusion:**\n",
        "\n",
        "---\n",
        "\n",
        "It is evident that the values are very approximate to the linear line, which verdicts that there ocuurs minimal errors. Hence based on the accuracy this is proven to be best fit and the model is performing well in predicting values."
      ],
      "metadata": {
        "id": "b4yED74J1mxU"
      }
    },
    {
      "cell_type": "markdown",
      "source": [
        "**Multi Linear Regression: **\n",
        "\n",
        "---\n",
        "\n"
      ],
      "metadata": {
        "id": "3Ko0fSBz3C5O"
      }
    }
  ],
  "metadata": {
    "colab": {
      "collapsed_sections": [],
      "name": "ShaikAssignment1",
      "provenance": [],
      "include_colab_link": true
    },
    "kernelspec": {
      "display_name": "Python 3",
      "name": "python3"
    }
  },
  "nbformat": 4,
  "nbformat_minor": 0
}