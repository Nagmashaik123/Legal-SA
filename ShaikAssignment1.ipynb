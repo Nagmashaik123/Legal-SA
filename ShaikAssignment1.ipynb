{
  "cells": [
    {
      "cell_type": "markdown",
      "metadata": {
        "id": "view-in-github",
        "colab_type": "text"
      },
      "source": [
        "<a href=\"https://colab.research.google.com/github/Nagmashaik123/Legal-SA/blob/main/ShaikAssignment1.ipynb\" target=\"_parent\"><img src=\"https://colab.research.google.com/assets/colab-badge.svg\" alt=\"Open In Colab\"/></a>"
      ]
    },
    {
      "cell_type": "markdown",
      "source": [
        "**Linear Regression Def :**\n",
        "\n",
        "---\n",
        "\n",
        "\n",
        "1. Linear Regression is a Supervised learning Algorithm in Machine Learning.\n",
        "2. Linear regression can be termed as a linear model, can be better explained through an e.g. it is a model that presume that the input variables (x) and the single output variable (y) exist linearly. Which mean that the value of y can be calculated and computed from a linear combination of the input variables (x)."
      ],
      "metadata": {
        "id": "zt7xr3NeIucW"
      }
    },
    {
      "cell_type": "markdown",
      "source": [
        "**Dataset:**\n",
        "\n",
        "---\n",
        "\n",
        "\n",
        "Here, the dataset considered for I took the Monset.csv dataset, which contains 6 columns, they are\n",
        "PRICE 2. HEIGHT 3. WIDTH 4. SIGNED 5. PICTURE 6. HOUSE"
      ],
      "metadata": {
        "id": "SDsBBZlPI1zT"
      }
    },
    {
      "cell_type": "code",
      "source": [
        "# Importing all the necessary libraries\n",
        "import numpy as np\n",
        "import pandas as pd\n",
        "import matplotlib.pyplot as plt\n",
        "import seaborn as sns\n",
        "from sklearn.linear_model import LinearRegression\n",
        "from sklearn.metrics import accuracy_score\n",
        "from sklearn.metrics import mean_squared_error\n",
        "from math import sqrt\n",
        "from sklearn.preprocessing import MinMaxScaler\n",
        "from sklearn import preprocessing\n"
      ],
      "metadata": {
        "id": "_787HKloKmvo"
      },
      "execution_count": 1,
      "outputs": []
    },
    {
      "cell_type": "code",
      "source": [
        "# Reading the dataset\n",
        "monet_df=pd.read_csv(\"/content/monet.csv\")"
      ],
      "metadata": {
        "id": "dUSX5rsvK4bw"
      },
      "execution_count": 2,
      "outputs": []
    },
    {
      "cell_type": "code",
      "source": [
        "monet_df.head()\n",
        "monet_df.shape"
      ],
      "metadata": {
        "id": "E7tFTeMZLBX5",
        "outputId": "d9f51991-3951-4bb1-8793-e6075d759c2a",
        "colab": {
          "base_uri": "https://localhost:8080/"
        }
      },
      "execution_count": 3,
      "outputs": [
        {
          "output_type": "execute_result",
          "data": {
            "text/plain": [
              "(430, 6)"
            ]
          },
          "metadata": {},
          "execution_count": 3
        }
      ]
    },
    {
      "cell_type": "markdown",
      "source": [
        "**Model One:**\n",
        "\n",
        "---\n",
        "\n",
        "\n",
        "Model one is created by combining two attributes that lead to the creation of new column in the frame.\n",
        "\n",
        "**SIZE** = Product of **WIDTH** and **HEIGHT**"
      ],
      "metadata": {
        "id": "s4wnUgMQMEVx"
      }
    },
    {
      "cell_type": "code",
      "source": [
        "monet_df['SIZE']=monet_df['HEIGHT']*monet_df['WIDTH']"
      ],
      "metadata": {
        "id": "wZwIFSrvMGDm"
      },
      "execution_count": 4,
      "outputs": []
    },
    {
      "cell_type": "code",
      "source": [
        "monet_df.to_csv(\"/content/monet_new.csv\",index=False )"
      ],
      "metadata": {
        "id": "1tnIWnn8MVeZ"
      },
      "execution_count": 5,
      "outputs": []
    },
    {
      "cell_type": "code",
      "source": [
        "monet_df=pd.read_csv(\"/content/monet_new.csv\")"
      ],
      "metadata": {
        "id": "CZZWtbtwQo20"
      },
      "execution_count": 6,
      "outputs": []
    },
    {
      "cell_type": "markdown",
      "source": [
        "**Data Preparation:**\n",
        "\n",
        "---\n",
        "\n",
        "\n",
        "1. The input/predictor variable in this use case is X. This is used to predict output variable.\n",
        "2. The output variable is in this use case is Y. This is the variable we want to predict from the input.\n",
        " \n",
        "This can be demonstrated as follows\n",
        "X = SIZE (Input)\n",
        "Y = PRICE (Output)\n"
      ],
      "metadata": {
        "id": "Mo6DntynNlKB"
      }
    },
    {
      "cell_type": "markdown",
      "source": [
        "**Data Division for computation:**\n",
        "\n",
        "---\n",
        "\n",
        "iloc function is used to segregate the columns.\n",
        "\n"
      ],
      "metadata": {
        "id": "fXXKh5aEO777"
      }
    },
    {
      "cell_type": "code",
      "source": [
        "#Data division for SIZE\n",
        "\n",
        "X= monet_df.iloc[:,-1:]\n",
        "size= X['SIZE']\n",
        "size"
      ],
      "metadata": {
        "colab": {
          "base_uri": "https://localhost:8080/"
        },
        "id": "LV2bBl4HQKhd",
        "outputId": "d08505d3-37c9-40e3-e8b9-61208177f2c2"
      },
      "execution_count": 7,
      "outputs": [
        {
          "output_type": "execute_result",
          "data": {
            "text/plain": [
              "0       545.28\n",
              "1       816.64\n",
              "2       109.71\n",
              "3       822.40\n",
              "4       822.40\n",
              "        ...   \n",
              "425    1008.64\n",
              "426    1025.64\n",
              "427    1013.76\n",
              "428    1008.64\n",
              "429     822.40\n",
              "Name: SIZE, Length: 430, dtype: float64"
            ]
          },
          "metadata": {},
          "execution_count": 7
        }
      ]
    },
    {
      "cell_type": "code",
      "source": [
        "# Data division for PRICE\n",
        "\n",
        "Y=monet_df.iloc[:, :1]\n",
        "price= Y['PRICE']\n",
        "price"
      ],
      "metadata": {
        "colab": {
          "base_uri": "https://localhost:8080/"
        },
        "id": "TO8F_ZIjQ9ry",
        "outputId": "32187c64-c290-4aee-cdc2-4ad953ea8f1d"
      },
      "execution_count": 8,
      "outputs": [
        {
          "output_type": "execute_result",
          "data": {
            "text/plain": [
              "0      3.993780\n",
              "1      8.800000\n",
              "2      0.131694\n",
              "3      2.037500\n",
              "4      1.487500\n",
              "         ...   \n",
              "425    5.282500\n",
              "426    9.352500\n",
              "427    8.252500\n",
              "428    3.410000\n",
              "429    1.542500\n",
              "Name: PRICE, Length: 430, dtype: float64"
            ]
          },
          "metadata": {},
          "execution_count": 8
        }
      ]
    },
    {
      "cell_type": "markdown",
      "source": [
        "**Data Visualisation:**\n",
        "\n",
        "---\n",
        "we draw the scatter plot for visualization purpose for the original data .\n"
      ],
      "metadata": {
        "id": "kYsBYRzXRcMi"
      }
    },
    {
      "cell_type": "code",
      "source": [
        "sns.regplot(size, price, scatter_kws={\"color\": \"black\"}, line_kws={\"color\": \"red\"}).set(title='Data visulation for original data PricevsSize')"
      ],
      "metadata": {
        "colab": {
          "base_uri": "https://localhost:8080/",
          "height": 366
        },
        "id": "X1SMGYJSRvki",
        "outputId": "719c18a8-00b7-4279-831f-1c36b17d0de3"
      },
      "execution_count": 9,
      "outputs": [
        {
          "output_type": "stream",
          "name": "stderr",
          "text": [
            "/usr/local/lib/python3.7/dist-packages/seaborn/_decorators.py:43: FutureWarning: Pass the following variables as keyword args: x, y. From version 0.12, the only valid positional argument will be `data`, and passing other arguments without an explicit keyword will result in an error or misinterpretation.\n",
            "  FutureWarning\n"
          ]
        },
        {
          "output_type": "execute_result",
          "data": {
            "text/plain": [
              "[Text(0.5, 1.0, 'Data visulation for original data PricevsSize')]"
            ]
          },
          "metadata": {},
          "execution_count": 9
        },
        {
          "output_type": "display_data",
          "data": {
            "image/png": "[encoded data removed]",
            "text/plain": [
              "<Figure size 432x288 with 1 Axes>"
            ]
          },
          "metadata": {
            "needs_background": "light"
          }
        }
      ]
    },
    {
      "cell_type": "code",
      "source": [
        "!pip install sklearn"
      ],
      "metadata": {
        "colab": {
          "base_uri": "https://localhost:8080/"
        },
        "id": "i2aYWGd_W79v",
        "outputId": "fc860179-c708-4684-98f6-3467e040dedd"
      },
      "execution_count": 10,
      "outputs": [
        {
          "output_type": "stream",
          "name": "stdout",
          "text": [
            "Requirement already satisfied: sklearn in /usr/local/lib/python3.7/dist-packages (0.0)\n",
            "Requirement already satisfied: scikit-learn in /usr/local/lib/python3.7/dist-packages (from sklearn) (1.0.2)\n",
            "Requirement already satisfied: threadpoolctl>=2.0.0 in /usr/local/lib/python3.7/dist-packages (from scikit-learn->sklearn) (3.0.0)\n",
            "Requirement already satisfied: joblib>=0.11 in /usr/local/lib/python3.7/dist-packages (from scikit-learn->sklearn) (1.1.0)\n",
            "Requirement already satisfied: numpy>=1.14.6 in /usr/local/lib/python3.7/dist-packages (from scikit-learn->sklearn) (1.19.5)\n",
            "Requirement already satisfied: scipy>=1.1.0 in /usr/local/lib/python3.7/dist-packages (from scikit-learn->sklearn) (1.4.1)\n"
          ]
        }
      ]
    },
    {
      "cell_type": "markdown",
      "source": [
        "**Data Splitting:** \n",
        "\n",
        "---\n",
        "\n",
        "\n",
        "Using the library sklearn.model_selection having train_test_split method, we divide the data into training and testing sets.\n",
        "\n",
        "In this usecase the data is divided into 80:20 then seperating the data into dataframes.\n",
        "\n"
      ],
      "metadata": {
        "id": "18CGsD5vUnQT"
      }
    },
    {
      "cell_type": "code",
      "source": [
        "from sklearn.model_selection import train_test_split\n",
        "train_data, test_data = train_test_split(monet_df,test_size =0.2,random_state=0)"
      ],
      "metadata": {
        "id": "VhibS1sDVlKH"
      },
      "execution_count": 11,
      "outputs": []
    },
    {
      "cell_type": "code",
      "source": [
        "# Test data splitting\n",
        "test_data_size= test_data['SIZE'].values\n",
        "test_data_size= test_data_size.reshape(-1,1)\n",
        "test_data_price=test_data['PRICE'].values\n",
        "test_data_price= test_data_price.reshape(-1,1)\n",
        "\n",
        "# Train data splitting\n",
        "train_data_size= train_data['SIZE'].values\n",
        "train_data_size= train_data_size.reshape(-1,1)\n",
        "train_data_price=train_data['PRICE'].values\n",
        "train_data_price= train_data_price.reshape(-1,1)"
      ],
      "metadata": {
        "id": "qNCuwZJSXSHu"
      },
      "execution_count": 12,
      "outputs": []
    },
    {
      "cell_type": "markdown",
      "source": [
        "**Training Model:**\n",
        "\n",
        "---\n",
        "Since Linear Regression model has to be implemented we can achive this by using library of sklearn.linear_model having  LinearRegression method. Then model is trained using the traning data."
      ],
      "metadata": {
        "id": "FbgY4M06ZRAA"
      }
    },
    {
      "cell_type": "code",
      "source": [
        "# Preparing the model for prediction :\n",
        "\n",
        "Linear_model = LinearRegression()\n",
        "Linear_model.fit(train_data_size,train_data_price)"
      ],
      "metadata": {
        "colab": {
          "base_uri": "https://localhost:8080/"
        },
        "id": "tuP84hYMahOV",
        "outputId": "7e33193f-1b59-4550-ec2e-e296f157602f"
      },
      "execution_count": 13,
      "outputs": [
        {
          "output_type": "execute_result",
          "data": {
            "text/plain": [
              "LinearRegression()"
            ]
          },
          "metadata": {},
          "execution_count": 13
        }
      ]
    },
    {
      "cell_type": "markdown",
      "source": [
        "**Predicting the values:**\n",
        "\n",
        "---\n",
        "\n",
        "After training the model. By implementing the Linear Regression model, the values are predicted using testing data."
      ],
      "metadata": {
        "id": "GpOD6LLcb71m"
      }
    },
    {
      "cell_type": "code",
      "source": [
        "Predicting_values= Linear_model.predict(test_data_size)\n",
        "Predicting_values"
      ],
      "metadata": {
        "colab": {
          "base_uri": "https://localhost:8080/"
        },
        "id": "3YlE0QtScUFS",
        "outputId": "adefdc77-8871-489a-ec3d-5a2764e83aa8"
      },
      "execution_count": 14,
      "outputs": [
        {
          "output_type": "execute_result",
          "data": {
            "text/plain": [
              "array([[ 3.18280891],\n",
              "       [ 1.78902985],\n",
              "       [ 3.14642788],\n",
              "       [ 1.94273049],\n",
              "       [ 3.00641606],\n",
              "       [ 2.47025533],\n",
              "       [ 1.31405538],\n",
              "       [ 2.7418268 ],\n",
              "       [ 2.08508502],\n",
              "       [12.70172913],\n",
              "       [ 2.80696353],\n",
              "       [ 4.4316151 ],\n",
              "       [ 3.7619654 ],\n",
              "       [ 2.92180262],\n",
              "       [ 2.34668847],\n",
              "       [ 3.64737896],\n",
              "       [ 2.99465654],\n",
              "       [ 2.56097821],\n",
              "       [ 2.99465654],\n",
              "       [ 3.51846059],\n",
              "       [ 3.80946285],\n",
              "       [ 3.21275894],\n",
              "       [ 2.59529213],\n",
              "       [ 2.7418268 ],\n",
              "       [ 3.26218568],\n",
              "       [ 1.36527361],\n",
              "       [ 2.80519501],\n",
              "       [ 3.22603434],\n",
              "       [ 1.77570851],\n",
              "       [ 3.75291608],\n",
              "       [ 2.34870963],\n",
              "       [ 3.25899316],\n",
              "       [ 3.29732644],\n",
              "       [ 3.11631707],\n",
              "       [ 2.74035686],\n",
              "       [ 7.98799794],\n",
              "       [ 2.73450007],\n",
              "       [ 3.32920578],\n",
              "       [10.03296057],\n",
              "       [ 1.95210136],\n",
              "       [ 2.2702286 ],\n",
              "       [ 2.57714755],\n",
              "       [ 3.18280891],\n",
              "       [ 5.17551975],\n",
              "       [ 2.87899061],\n",
              "       [ 2.42183917],\n",
              "       [ 2.72278648],\n",
              "       [ 7.83004826],\n",
              "       [ 2.7418268 ],\n",
              "       [ 2.2702286 ],\n",
              "       [ 3.7619654 ],\n",
              "       [ 1.49664953],\n",
              "       [ 2.95120143],\n",
              "       [ 2.28979718],\n",
              "       [ 2.16476038],\n",
              "       [ 2.62459906],\n",
              "       [ 4.4316151 ],\n",
              "       [ 3.03498803],\n",
              "       [ 3.25240139],\n",
              "       [ 1.95210136],\n",
              "       [ 3.0018225 ],\n",
              "       [ 2.76833167],\n",
              "       [ 3.19185823],\n",
              "       [ 3.77620545],\n",
              "       [ 1.78076143],\n",
              "       [ 2.44352079],\n",
              "       [ 1.9702    ],\n",
              "       [ 3.23094945],\n",
              "       [ 2.75505627],\n",
              "       [ 2.60254996],\n",
              "       [ 1.97323175],\n",
              "       [ 2.12938994],\n",
              "       [ 2.7418268 ],\n",
              "       [ 2.42677725],\n",
              "       [ 2.24386155],\n",
              "       [ 2.43267998],\n",
              "       [ 5.42308985],\n",
              "       [ 1.48975918],\n",
              "       [ 2.63148941],\n",
              "       [ 2.55661432],\n",
              "       [ 4.25062869],\n",
              "       [ 2.57361051],\n",
              "       [ 2.25045331],\n",
              "       [ 2.75505627],\n",
              "       [ 3.0018225 ],\n",
              "       [ 3.54147435]])"
            ]
          },
          "metadata": {},
          "execution_count": 14
        }
      ]
    },
    {
      "cell_type": "markdown",
      "source": [
        "**Model Evaluation - by calculating errors:**\n",
        "\n",
        "---\n",
        "\n",
        "\n",
        "The model evaluation is done using Scikit-learn library\n",
        "● Mean Absolute error\n",
        "● Mean squared error\n",
        "● Root mean squared error"
      ],
      "metadata": {
        "id": "WLawMjG3eCjd"
      }
    },
    {
      "cell_type": "code",
      "source": [
        "from sklearn.metrics import mean_absolute_error \n",
        "test_data= test_data_price.flatten()\n",
        "absolute_error= mean_absolute_error(test_data,Predicting_values)\n",
        "sqrd_error=mean_squared_error(test_data,Predicting_values)\n",
        "mean_sqrd_error= np.sqrt(sqrd_error)\n",
        "\n",
        "print(\"Mean Absolute Error: \", absolute_error, \"Mean Squared Error: \",sqrd_error, \" Root Mean Squared Error: \",mean_sqrd_error)"
      ],
      "metadata": {
        "id": "sVl5eOVfllHE",
        "outputId": "de96f15a-498f-40b6-e76e-3309ecd08f23",
        "colab": {
          "base_uri": "https://localhost:8080/"
        }
      },
      "execution_count": 16,
      "outputs": [
        {
          "output_type": "stream",
          "name": "stdout",
          "text": [
            "Mean Absolute Error:  2.6855486941004547 Mean Squared Error:  16.35922009540488  Root Mean Squared Error:  4.044653272581579\n"
          ]
        }
      ]
    },
    {
      "cell_type": "markdown",
      "source": [
        "**Data Visualisation for traning and testing data:**\n",
        "\n",
        "---\n",
        "\n",
        "Visualization graphs are drawn below"
      ],
      "metadata": {
        "id": "s_YoWnQuoH24"
      }
    },
    {
      "cell_type": "code",
      "source": [
        "sns.regplot(test_data_size, test_data_price, scatter_kws={\"color\": \"red\"}, line_kws={\"color\": \"green\"}).set(title='Testing Data Plot')"
      ],
      "metadata": {
        "id": "YRxMudIrooov",
        "outputId": "db55d002-e17f-4a25-a3c1-3a6a8f5c27e2",
        "colab": {
          "base_uri": "https://localhost:8080/",
          "height": 352
        }
      },
      "execution_count": 17,
      "outputs": [
        {
          "output_type": "stream",
          "name": "stderr",
          "text": [
            "/usr/local/lib/python3.7/dist-packages/seaborn/_decorators.py:43: FutureWarning: Pass the following variables as keyword args: x, y. From version 0.12, the only valid positional argument will be `data`, and passing other arguments without an explicit keyword will result in an error or misinterpretation.\n",
            "  FutureWarning\n"
          ]
        },
        {
          "output_type": "execute_result",
          "data": {
            "text/plain": [
              "[Text(0.5, 1.0, 'Testing Data Plot')]"
            ]
          },
          "metadata": {},
          "execution_count": 17
        },
        {
          "output_type": "display_data",
          "data": {
            "image/png": "[encoded data removed]",
            "text/plain": [
              "<Figure size 432x288 with 1 Axes>"
            ]
          },
          "metadata": {
            "needs_background": "light"
          }
        }
      ]
    },
    {
      "cell_type": "code",
      "source": [
        "sns.regplot(train_data_size, train_data_price, scatter_kws={\"color\": \"red\"}, line_kws={\"color\": \"green\"}).set(title='Training Data Plot')"
      ],
      "metadata": {
        "id": "TyCiMpP6pbLI",
        "outputId": "a145c3b4-1b9f-4b85-eea1-b4fa3fee0972",
        "colab": {
          "base_uri": "https://localhost:8080/",
          "height": 352
        }
      },
      "execution_count": 18,
      "outputs": [
        {
          "output_type": "stream",
          "name": "stderr",
          "text": [
            "/usr/local/lib/python3.7/dist-packages/seaborn/_decorators.py:43: FutureWarning: Pass the following variables as keyword args: x, y. From version 0.12, the only valid positional argument will be `data`, and passing other arguments without an explicit keyword will result in an error or misinterpretation.\n",
            "  FutureWarning\n"
          ]
        },
        {
          "output_type": "execute_result",
          "data": {
            "text/plain": [
              "[Text(0.5, 1.0, 'Training Data Plot')]"
            ]
          },
          "metadata": {},
          "execution_count": 18
        },
        {
          "output_type": "display_data",
          "data": {
            "image/png": "[encoded data removed]",
            "text/plain": [
              "<Figure size 432x288 with 1 Axes>"
            ]
          },
          "metadata": {
            "needs_background": "light"
          }
        }
      ]
    },
    {
      "cell_type": "markdown",
      "source": [
        "**Model One Conclusion:**\n",
        "\n",
        "---\n",
        "It is evident that the values are very approximate to the linear line, which verdicts that there ocuurs minimal errors. Hence based on the accuracy this is proven to be best fit and the model is performing well in predicting jobs."
      ],
      "metadata": {
        "id": "qp8afJyqqpDU"
      }
    },
    {
      "cell_type": "markdown",
      "source": [
        "**Building Model Two:**\n",
        "\n",
        "---\n",
        "\n",
        "\n",
        "Model two is created by using two attributes width and price as independent and dependent variables. Where\n",
        "X stores the values of width and is an independent variable. Y stores the values of price and is a dependable variable. \n"
      ],
      "metadata": {
        "id": "LXjXkiphtFm_"
      }
    },
    {
      "cell_type": "code",
      "source": [
        "# Reading the dataset\n",
        "monet_df=pd.read_csv(\"/content/monet.csv\")\n",
        "monet_df.head()\n",
        "monet_df.shape"
      ],
      "metadata": {
        "colab": {
          "base_uri": "https://localhost:8080/"
        },
        "id": "ZxwRREbnt5st",
        "outputId": "7228b6d2-0aff-48f0-83e9-f26bf9adbe4e"
      },
      "execution_count": 19,
      "outputs": [
        {
          "output_type": "execute_result",
          "data": {
            "text/plain": [
              "(430, 6)"
            ]
          },
          "metadata": {},
          "execution_count": 19
        }
      ]
    },
    {
      "cell_type": "markdown",
      "source": [
        "**Data Division for computation - Model Two:**\n",
        "\n",
        "---\n",
        "iloc function is used to segregate the columns.\n",
        "\n"
      ],
      "metadata": {
        "id": "m9qG7mV9wc6z"
      }
    },
    {
      "cell_type": "code",
      "source": [
        "#Data division for Width\n",
        "\n",
        "X= monet_df.iloc[:,2:]\n",
        "X2= X['WIDTH']\n",
        "X2"
      ],
      "metadata": {
        "colab": {
          "base_uri": "https://localhost:8080/"
        },
        "id": "hqIjSP46wkyV",
        "outputId": "db8b98fb-32a5-4a3b-a8e6-0307b362af0d"
      },
      "execution_count": 20,
      "outputs": [
        {
          "output_type": "execute_result",
          "data": {
            "text/plain": [
              "0      25.6\n",
              "1      25.6\n",
              "2      15.9\n",
              "3      32.0\n",
              "4      32.0\n",
              "       ... \n",
              "425    39.4\n",
              "426    39.6\n",
              "427    39.6\n",
              "428    39.4\n",
              "429    32.0\n",
              "Name: WIDTH, Length: 430, dtype: float64"
            ]
          },
          "metadata": {},
          "execution_count": 20
        }
      ]
    },
    {
      "cell_type": "code",
      "source": [
        "# Data division for PRICE\n",
        "\n",
        "Y=monet_df.iloc[:, :1]\n",
        "Y2= Y['PRICE']\n",
        "Y2"
      ],
      "metadata": {
        "colab": {
          "base_uri": "https://localhost:8080/"
        },
        "id": "YzM6PCoZw5Sf",
        "outputId": "43e9685b-c400-4462-c18c-86655a724379"
      },
      "execution_count": 21,
      "outputs": [
        {
          "output_type": "execute_result",
          "data": {
            "text/plain": [
              "0      3.993780\n",
              "1      8.800000\n",
              "2      0.131694\n",
              "3      2.037500\n",
              "4      1.487500\n",
              "         ...   \n",
              "425    5.282500\n",
              "426    9.352500\n",
              "427    8.252500\n",
              "428    3.410000\n",
              "429    1.542500\n",
              "Name: PRICE, Length: 430, dtype: float64"
            ]
          },
          "metadata": {},
          "execution_count": 21
        }
      ]
    },
    {
      "cell_type": "markdown",
      "source": [
        "**Data Visualization:**\n",
        "\n",
        "---\n",
        "\n",
        "\n",
        "Now the scatter plot for visualization purpose is drawn for the segregated data."
      ],
      "metadata": {
        "id": "WUpk-7e4yUVM"
      }
    },
    {
      "cell_type": "code",
      "source": [
        "sns.regplot(X2, Y2, scatter_kws={\"color\": \"black\"}, line_kws={\"color\": \"red\"}).set(title='Data visulation for PricevsWidth')"
      ],
      "metadata": {
        "colab": {
          "base_uri": "https://localhost:8080/",
          "height": 366
        },
        "id": "MxX40AcTyhF6",
        "outputId": "f3e7e3db-70bf-4203-cca2-17185449922b"
      },
      "execution_count": 22,
      "outputs": [
        {
          "output_type": "stream",
          "name": "stderr",
          "text": [
            "/usr/local/lib/python3.7/dist-packages/seaborn/_decorators.py:43: FutureWarning: Pass the following variables as keyword args: x, y. From version 0.12, the only valid positional argument will be `data`, and passing other arguments without an explicit keyword will result in an error or misinterpretation.\n",
            "  FutureWarning\n"
          ]
        },
        {
          "output_type": "execute_result",
          "data": {
            "text/plain": [
              "[Text(0.5, 1.0, 'Data visulation for PricevsWidth')]"
            ]
          },
          "metadata": {},
          "execution_count": 22
        },
        {
          "output_type": "display_data",
          "data": {
            "image/png": "[encoded data removed]",
            "text/plain": [
              "<Figure size 432x288 with 1 Axes>"
            ]
          },
          "metadata": {
            "needs_background": "light"
          }
        }
      ]
    },
    {
      "cell_type": "markdown",
      "source": [
        "**Data Splitting :**\n",
        "\n",
        "---\n",
        "\n",
        "\n",
        "Using the library sklearn.model_selection having train_test_split method, we divide the data into training and testing sets.\n",
        "\n",
        "In this usecase the data is divided into 80:20 then seperating the data into dataframes."
      ],
      "metadata": {
        "id": "imhh2eIXzg2K"
      }
    },
    {
      "cell_type": "code",
      "source": [
        "from sklearn.model_selection import train_test_split\n",
        "train_data, test_data = train_test_split(monet_df,test_size =0.2,random_state=0)\n",
        "# Test data splitting\n",
        "test_data_width= test_data['WIDTH'].values\n",
        "test_data_width= test_data_width.reshape(-1,1)\n",
        "test_data_price=test_data['PRICE'].values\n",
        "test_data_price= test_data_price.reshape(-1,1)\n",
        "\n",
        "# Train data splitting\n",
        "train_data_width= train_data['WIDTH'].values\n",
        "train_data_width= train_data_width.reshape(-1,1)\n",
        "train_data_price=train_data['PRICE'].values\n",
        "train_data_price= train_data_price.reshape(-1,1)"
      ],
      "metadata": {
        "id": "Ae__KCnp0WV_"
      },
      "execution_count": 23,
      "outputs": []
    },
    {
      "cell_type": "markdown",
      "source": [
        "**Training Model Two:**\n",
        "\n",
        "---\n",
        "\n",
        "\n",
        "\n",
        "Since Linear Regression model has to be implemented we can achive this by using library of sklearn.linear_model having LinearRegression method. Then model is trained using the traning data. By considering Width and Price."
      ],
      "metadata": {
        "id": "jmIWyDy10fqh"
      }
    },
    {
      "cell_type": "code",
      "source": [
        "Linear_model = LinearRegression()\n",
        "Linear_model.fit(train_data_width,train_data_price)"
      ],
      "metadata": {
        "colab": {
          "base_uri": "https://localhost:8080/"
        },
        "id": "blOV1K9N0tXJ",
        "outputId": "b4eb8384-4297-4647-d951-2d9a5f59052c"
      },
      "execution_count": 24,
      "outputs": [
        {
          "output_type": "execute_result",
          "data": {
            "text/plain": [
              "LinearRegression()"
            ]
          },
          "metadata": {},
          "execution_count": 24
        }
      ]
    },
    {
      "cell_type": "markdown",
      "source": [
        "**Predicting the values:**\n",
        "\n",
        "---\n",
        "After training the model. By implementing the Linear Regression model, the values are predicted using testing data.\n"
      ],
      "metadata": {
        "id": "VyKU9xdj0zkW"
      }
    },
    {
      "cell_type": "code",
      "source": [
        "Predicting_values_two= Linear_model.predict(test_data_width)\n",
        "Predicting_values_two"
      ],
      "metadata": {
        "colab": {
          "base_uri": "https://localhost:8080/"
        },
        "id": "uQDpee9x04_W",
        "outputId": "0893a6c5-49ab-4782-e2d7-094098a9364a"
      },
      "execution_count": 25,
      "outputs": [
        {
          "output_type": "execute_result",
          "data": {
            "text/plain": [
              "array([[ 4.21047729],\n",
              "       [ 2.50715605],\n",
              "       [ 3.74882948],\n",
              "       [ 1.88631933],\n",
              "       [ 3.73291059],\n",
              "       [ 2.57083161],\n",
              "       [-0.4696764 ],\n",
              "       [ 3.01656053],\n",
              "       [ 2.55491272],\n",
              "       [12.10624679],\n",
              "       [ 3.11207387],\n",
              "       [ 4.21047729],\n",
              "       [ 3.03247942],\n",
              "       [ 3.63739725],\n",
              "       [ 2.60266939],\n",
              "       [ 4.60844954],\n",
              "       [ 3.70107281],\n",
              "       [ 2.93696608],\n",
              "       [ 3.70107281],\n",
              "       [ 3.70107281],\n",
              "       [ 3.70107281],\n",
              "       [ 4.24231507],\n",
              "       [ 3.01656053],\n",
              "       [ 2.01367045],\n",
              "       [ 3.12799276],\n",
              "       [ 1.20180706],\n",
              "       [ 3.04839831],\n",
              "       [ 3.63739725],\n",
              "       [ 1.44059041],\n",
              "       [ 4.21047729],\n",
              "       [ 3.12799276],\n",
              "       [ 2.50715605],\n",
              "       [ 3.74882948],\n",
              "       [ 2.92104719],\n",
              "       [ 3.03247942],\n",
              "       [10.46660111],\n",
              "       [ 3.01656053],\n",
              "       [ 2.60266939],\n",
              "       [10.3233311 ],\n",
              "       [ 1.75896821],\n",
              "       [ 2.50715605],\n",
              "       [ 2.92104719],\n",
              "       [ 2.01367045],\n",
              "       [ 4.22639618],\n",
              "       [ 2.20469714],\n",
              "       [ 2.50715605],\n",
              "       [ 2.98472275],\n",
              "       [ 7.02812084],\n",
              "       [ 3.01656053],\n",
              "       [ 2.50715605],\n",
              "       [ 3.03247942],\n",
              "       [ 0.3262681 ],\n",
              "       [ 3.60555947],\n",
              "       [ 2.57083161],\n",
              "       [ 2.50715605],\n",
              "       [ 3.01656053],\n",
              "       [ 4.21047729],\n",
              "       [ 3.76474837],\n",
              "       [ 3.70107281],\n",
              "       [ 1.75896821],\n",
              "       [ 4.21047729],\n",
              "       [ 3.04839831],\n",
              "       [ 2.02958934],\n",
              "       [ 3.51004613],\n",
              "       [ 0.8197537 ],\n",
              "       [ 2.57083161],\n",
              "       [ 1.07445594],\n",
              "       [ 4.24231507],\n",
              "       [ 3.03247942],\n",
              "       [ 2.95288497],\n",
              "       [ 1.7748871 ],\n",
              "       [ 2.57083161],\n",
              "       [ 2.01367045],\n",
              "       [ 3.01656053],\n",
              "       [ 2.50715605],\n",
              "       [ 2.53899383],\n",
              "       [ 6.12074411],\n",
              "       [ 0.3262681 ],\n",
              "       [ 2.95288497],\n",
              "       [ 3.03247942],\n",
              "       [ 4.21047729],\n",
              "       [ 2.95288497],\n",
              "       [ 2.50715605],\n",
              "       [ 3.03247942],\n",
              "       [ 4.21047729],\n",
              "       [ 3.73291059]])"
            ]
          },
          "metadata": {},
          "execution_count": 25
        }
      ]
    },
    {
      "cell_type": "markdown",
      "source": [
        "**Model Evaluation - by calculating errors:**\n",
        "\n",
        "---\n",
        "\n"
      ],
      "metadata": {
        "id": "6f3-eRPP0-dA"
      }
    },
    {
      "cell_type": "code",
      "source": [
        "from sklearn.metrics import mean_absolute_error \n",
        "test_data= test_data_price.flatten()\n",
        "absolute_error= mean_absolute_error(test_data,Predicting_values_two)\n",
        "sqrd_error=mean_squared_error(test_data,Predicting_values_two)\n",
        "mean_sqrd_error= np.sqrt(sqrd_error)\n",
        "\n",
        "print(\"Mean Absolute Error: \", absolute_error, \"Mean Squared Error: \",sqrd_error, \" Root Mean Squared Error: \",mean_sqrd_error)"
      ],
      "metadata": {
        "colab": {
          "base_uri": "https://localhost:8080/"
        },
        "id": "gMZRs5n01Dcf",
        "outputId": "71d963f7-5ded-4fe6-eb89-9c548d3c6006"
      },
      "execution_count": 27,
      "outputs": [
        {
          "output_type": "stream",
          "name": "stdout",
          "text": [
            "Mean Absolute Error:  2.818248782334989 Mean Squared Error:  17.65808260117137  Root Mean Squared Error:  4.202152139222397\n"
          ]
        }
      ]
    },
    {
      "cell_type": "markdown",
      "source": [
        "**Data Visualisation of Model Two for traning and testing data:**\n",
        "\n",
        "---\n",
        "\n"
      ],
      "metadata": {
        "id": "AOJto2ef1O2J"
      }
    },
    {
      "cell_type": "code",
      "source": [
        "sns.regplot(test_data_width, test_data_price, scatter_kws={\"color\": \"red\"}, line_kws={\"color\": \"green\"}).set(title='Model Two-Testing Data Plot')"
      ],
      "metadata": {
        "colab": {
          "base_uri": "https://localhost:8080/",
          "height": 352
        },
        "id": "DPNa8Fhq1V3d",
        "outputId": "387739ec-1290-4525-b601-9e16b2e74199"
      },
      "execution_count": 28,
      "outputs": [
        {
          "output_type": "stream",
          "name": "stderr",
          "text": [
            "/usr/local/lib/python3.7/dist-packages/seaborn/_decorators.py:43: FutureWarning: Pass the following variables as keyword args: x, y. From version 0.12, the only valid positional argument will be `data`, and passing other arguments without an explicit keyword will result in an error or misinterpretation.\n",
            "  FutureWarning\n"
          ]
        },
        {
          "output_type": "execute_result",
          "data": {
            "text/plain": [
              "[Text(0.5, 1.0, 'Model Two-Testing Data Plot')]"
            ]
          },
          "metadata": {},
          "execution_count": 28
        },
        {
          "output_type": "display_data",
          "data": {
            "image/png": "[encoded data removed]",
            "text/plain": [
              "<Figure size 432x288 with 1 Axes>"
            ]
          },
          "metadata": {
            "needs_background": "light"
          }
        }
      ]
    },
    {
      "cell_type": "code",
      "source": [
        "sns.regplot(train_data_width, train_data_price, scatter_kws={\"color\": \"red\"}, line_kws={\"color\": \"green\"}).set(title='Model Two-Training Data Plot')\n"
      ],
      "metadata": {
        "colab": {
          "base_uri": "https://localhost:8080/",
          "height": 352
        },
        "id": "QuiMuOyh1Yyw",
        "outputId": "a51b2fa6-65c1-481c-f55c-8ac20f7004b7"
      },
      "execution_count": 29,
      "outputs": [
        {
          "output_type": "stream",
          "name": "stderr",
          "text": [
            "/usr/local/lib/python3.7/dist-packages/seaborn/_decorators.py:43: FutureWarning: Pass the following variables as keyword args: x, y. From version 0.12, the only valid positional argument will be `data`, and passing other arguments without an explicit keyword will result in an error or misinterpretation.\n",
            "  FutureWarning\n"
          ]
        },
        {
          "output_type": "execute_result",
          "data": {
            "text/plain": [
              "[Text(0.5, 1.0, 'Model Two-Training Data Plot')]"
            ]
          },
          "metadata": {},
          "execution_count": 29
        },
        {
          "output_type": "display_data",
          "data": {
            "image/png": "[encoded data removed]",
            "text/plain": [
              "<Figure size 432x288 with 1 Axes>"
            ]
          },
          "metadata": {
            "needs_background": "light"
          }
        }
      ]
    },
    {
      "cell_type": "markdown",
      "source": [
        "**Model Two Conclusion:**\n",
        "\n",
        "---\n",
        "\n",
        "It is evident that the values are very approximate to the linear line, which verdicts that there ocuurs minimal errors. Hence based on the accuracy this is proven to be best fit and the model is performing well in predicting values."
      ],
      "metadata": {
        "id": "b4yED74J1mxU"
      }
    },
    {
      "cell_type": "markdown",
      "source": [
        "**Multiple linear regression:**\n",
        "\n",
        "---\n",
        "\n",
        "\n",
        "Multiple linear regression is a technique in statistics. The ultimate goal of this regression model is to predict the output value of a variable by taking other variables as its input.This model is used to model the linear relationship between your independent variables and your dependent variable.\n",
        "\n",
        "The Multivariate model is created, by taking 7 attributes(('HEIGHT', 'WIDTH', 'SIGNED','PICTURE', 'SIZE', 'HOUSE ' VS price))\n",
        "\n"
      ],
      "metadata": {
        "id": "3Ko0fSBz3C5O"
      }
    },
    {
      "cell_type": "code",
      "source": [
        "monet_df=pd.read_csv(\"/content/monet.csv\")\n",
        "monet_df.head()\n",
        "monet_df.shape"
      ],
      "metadata": {
        "id": "bqwwLrZTHYZX",
        "outputId": "df8eef0c-149c-4179-f9dd-b500777e0fd6",
        "colab": {
          "base_uri": "https://localhost:8080/"
        }
      },
      "execution_count": 43,
      "outputs": [
        {
          "output_type": "execute_result",
          "data": {
            "text/plain": [
              "(430, 6)"
            ]
          },
          "metadata": {},
          "execution_count": 43
        }
      ]
    },
    {
      "cell_type": "markdown",
      "source": [
        "**Preparing Data for analysis:**\n",
        "\n",
        "---\n",
        "In this use case X is considered to be independent variable which stores the values of 'HEIGHT', 'WIDTH', 'SIGNED','PICTURE', 'SIZE', 'HOUSE\n",
        "Y is considered to be dependent variable which stores the values of price to be predicted"
      ],
      "metadata": {
        "id": "4q9FsH2LBaa9"
      }
    },
    {
      "cell_type": "markdown",
      "source": [
        "**Data Normalising:**\n",
        "\n",
        "---\n",
        "We implemented the data normalization\n"
      ],
      "metadata": {
        "id": "eaCMFnUdHo_k"
      }
    },
    {
      "cell_type": "code",
      "source": [
        "features=['PRICE','HEIGHT','WIDTH','SIGNED','PICTURE','HOUSE']\n",
        "data = preprocessing.normalize(monet_df)\n",
        "op_df = pd.DataFrame(data, columns=features)\n",
        "op_df.head()"
      ],
      "metadata": {
        "id": "00_3uvzmHl3E",
        "outputId": "5212a589-f6a1-4505-b54b-196d04c18600",
        "colab": {
          "base_uri": "https://localhost:8080/",
          "height": 204
        }
      },
      "execution_count": 83,
      "outputs": [
        {
          "output_type": "execute_result",
          "data": {
            "text/html": [
              "\n",
              "  <div id=\"df-8a08e329-ca09-429d-86f4-e376147effd4\">\n",
              "    <div class=\"colab-df-container\">\n",
              "      <div>\n",
              "<style scoped>\n",
              "    .dataframe tbody tr th:only-of-type {\n",
              "        vertical-align: middle;\n",
              "    }\n",
              "\n",
              "    .dataframe tbody tr th {\n",
              "        vertical-align: top;\n",
              "    }\n",
              "\n",
              "    .dataframe thead th {\n",
              "        text-align: right;\n",
              "    }\n",
              "</style>\n",
              "<table border=\"1\" class=\"dataframe\">\n",
              "  <thead>\n",
              "    <tr style=\"text-align: right;\">\n",
              "      <th></th>\n",
              "      <th>PRICE</th>\n",
              "      <th>HEIGHT</th>\n",
              "      <th>WIDTH</th>\n",
              "      <th>SIGNED</th>\n",
              "      <th>PICTURE</th>\n",
              "      <th>HOUSE</th>\n",
              "    </tr>\n",
              "  </thead>\n",
              "  <tbody>\n",
              "    <tr>\n",
              "      <th>0</th>\n",
              "      <td>0.118913</td>\n",
              "      <td>0.634198</td>\n",
              "      <td>0.762229</td>\n",
              "      <td>0.029775</td>\n",
              "      <td>0.029775</td>\n",
              "      <td>0.029775</td>\n",
              "    </tr>\n",
              "    <tr>\n",
              "      <th>1</th>\n",
              "      <td>0.209797</td>\n",
              "      <td>0.760514</td>\n",
              "      <td>0.610318</td>\n",
              "      <td>0.023841</td>\n",
              "      <td>0.047681</td>\n",
              "      <td>0.047681</td>\n",
              "    </tr>\n",
              "    <tr>\n",
              "      <th>2</th>\n",
              "      <td>0.007380</td>\n",
              "      <td>0.386667</td>\n",
              "      <td>0.891015</td>\n",
              "      <td>0.000000</td>\n",
              "      <td>0.168116</td>\n",
              "      <td>0.168116</td>\n",
              "    </tr>\n",
              "    <tr>\n",
              "      <th>3</th>\n",
              "      <td>0.049277</td>\n",
              "      <td>0.621556</td>\n",
              "      <td>0.773922</td>\n",
              "      <td>0.024185</td>\n",
              "      <td>0.096740</td>\n",
              "      <td>0.048370</td>\n",
              "    </tr>\n",
              "    <tr>\n",
              "      <th>4</th>\n",
              "      <td>0.035996</td>\n",
              "      <td>0.621909</td>\n",
              "      <td>0.774362</td>\n",
              "      <td>0.024199</td>\n",
              "      <td>0.096795</td>\n",
              "      <td>0.048398</td>\n",
              "    </tr>\n",
              "  </tbody>\n",
              "</table>\n",
              "</div>\n",
              "      <button class=\"colab-df-convert\" onclick=\"convertToInteractive('df-8a08e329-ca09-429d-86f4-e376147effd4')\"\n",
              "              title=\"Convert this dataframe to an interactive table.\"\n",
              "              style=\"display:none;\">\n",
              "        \n",
              "  <svg xmlns=\"http://www.w3.org/2000/svg\" height=\"24px\"viewBox=\"0 0 24 24\"\n",
              "       width=\"24px\">\n",
              "    <path d=\"M0 0h24v24H0V0z\" fill=\"none\"/>\n",
              "    <path d=\"M18.56 5.44l.94 2.06.94-2.06 2.06-.94-2.06-.94-.94-2.06-.94 2.06-2.06.94zm-11 1L8.5 8.5l.94-2.06 2.06-.94-2.06-.94L8.5 2.5l-.94 2.06-2.06.94zm10 10l.94 2.06.94-2.06 2.06-.94-2.06-.94-.94-2.06-.94 2.06-2.06.94z\"/><path d=\"M17.41 7.96l-1.37-1.37c-.4-.4-.92-.59-1.43-.59-.52 0-1.04.2-1.43.59L10.3 9.45l-7.72 7.72c-.78.78-.78 2.05 0 2.83L4 21.41c.39.39.9.59 1.41.59.51 0 1.02-.2 1.41-.59l7.78-7.78 2.81-2.81c.8-.78.8-2.07 0-2.86zM5.41 20L4 18.59l7.72-7.72 1.47 1.35L5.41 20z\"/>\n",
              "  </svg>\n",
              "      </button>\n",
              "      \n",
              "  <style>\n",
              "    .colab-df-container {\n",
              "      display:flex;\n",
              "      flex-wrap:wrap;\n",
              "      gap: 12px;\n",
              "    }\n",
              "\n",
              "    .colab-df-convert {\n",
              "      background-color: #E8F0FE;\n",
              "      border: none;\n",
              "      border-radius: 50%;\n",
              "      cursor: pointer;\n",
              "      display: none;\n",
              "      fill: #1967D2;\n",
              "      height: 32px;\n",
              "      padding: 0 0 0 0;\n",
              "      width: 32px;\n",
              "    }\n",
              "\n",
              "    .colab-df-convert:hover {\n",
              "      background-color: #E2EBFA;\n",
              "      box-shadow: 0px 1px 2px rgba(60, 64, 67, 0.3), 0px 1px 3px 1px rgba(60, 64, 67, 0.15);\n",
              "      fill: #174EA6;\n",
              "    }\n",
              "\n",
              "    [theme=dark] .colab-df-convert {\n",
              "      background-color: #3B4455;\n",
              "      fill: #D2E3FC;\n",
              "    }\n",
              "\n",
              "    [theme=dark] .colab-df-convert:hover {\n",
              "      background-color: #434B5C;\n",
              "      box-shadow: 0px 1px 3px 1px rgba(0, 0, 0, 0.15);\n",
              "      filter: drop-shadow(0px 1px 2px rgba(0, 0, 0, 0.3));\n",
              "      fill: #FFFFFF;\n",
              "    }\n",
              "  </style>\n",
              "\n",
              "      <script>\n",
              "        const buttonEl =\n",
              "          document.querySelector('#df-8a08e329-ca09-429d-86f4-e376147effd4 button.colab-df-convert');\n",
              "        buttonEl.style.display =\n",
              "          google.colab.kernel.accessAllowed ? 'block' : 'none';\n",
              "\n",
              "        async function convertToInteractive(key) {\n",
              "          const element = document.querySelector('#df-8a08e329-ca09-429d-86f4-e376147effd4');\n",
              "          const dataTable =\n",
              "            await google.colab.kernel.invokeFunction('convertToInteractive',\n",
              "                                                     [key], {});\n",
              "          if (!dataTable) return;\n",
              "\n",
              "          const docLinkHtml = 'Like what you see? Visit the ' +\n",
              "            '<a target=\"_blank\" href=https://colab.research.google.com/notebooks/data_table.ipynb>data table notebook</a>'\n",
              "            + ' to learn more about interactive tables.';\n",
              "          element.innerHTML = '';\n",
              "          dataTable['output_type'] = 'display_data';\n",
              "          await google.colab.output.renderOutput(dataTable, element);\n",
              "          const docLink = document.createElement('div');\n",
              "          docLink.innerHTML = docLinkHtml;\n",
              "          element.appendChild(docLink);\n",
              "        }\n",
              "      </script>\n",
              "    </div>\n",
              "  </div>\n",
              "  "
            ],
            "text/plain": [
              "      PRICE    HEIGHT     WIDTH    SIGNED   PICTURE     HOUSE\n",
              "0  0.118913  0.634198  0.762229  0.029775  0.029775  0.029775\n",
              "1  0.209797  0.760514  0.610318  0.023841  0.047681  0.047681\n",
              "2  0.007380  0.386667  0.891015  0.000000  0.168116  0.168116\n",
              "3  0.049277  0.621556  0.773922  0.024185  0.096740  0.048370\n",
              "4  0.035996  0.621909  0.774362  0.024199  0.096795  0.048398"
            ]
          },
          "metadata": {},
          "execution_count": 83
        }
      ]
    },
    {
      "cell_type": "code",
      "source": [
        "X = op_df[['HEIGHT','WIDTH','SIGNED','PICTURE','HOUSE']]\n",
        "Y = op_df['PRICE']"
      ],
      "metadata": {
        "id": "HTI4cZoZIYTz"
      },
      "execution_count": 84,
      "outputs": []
    },
    {
      "cell_type": "markdown",
      "source": [
        "**Data Splitting for analysis:**\n",
        "\n",
        "---\n",
        "Data is split in the ratio of 80:20 for training and testing respectively\n"
      ],
      "metadata": {
        "id": "EbUyIxuUBxuN"
      }
    },
    {
      "cell_type": "code",
      "source": [
        "X_train, X_test,Y_train,Y_test = train_test_split(X,Y,test_size =0.2)"
      ],
      "metadata": {
        "id": "191oiG-gIiFG"
      },
      "execution_count": 85,
      "outputs": []
    },
    {
      "cell_type": "markdown",
      "source": [
        "**Training Model:**\n",
        "\n",
        "---\n",
        "\n",
        "After data split we now train the data using  the linear regression model  by using scikit-learn library.\n",
        "\n"
      ],
      "metadata": {
        "id": "DNrsJyl8CP80"
      }
    },
    {
      "cell_type": "code",
      "source": [
        "Linear_model.fit(X_train,Y_train)"
      ],
      "metadata": {
        "id": "jJefJupVIxI6",
        "outputId": "6be7b9e1-4e3f-4910-91d6-521dea38865f",
        "colab": {
          "base_uri": "https://localhost:8080/"
        }
      },
      "execution_count": 86,
      "outputs": [
        {
          "output_type": "execute_result",
          "data": {
            "text/plain": [
              "LinearRegression()"
            ]
          },
          "metadata": {},
          "execution_count": 86
        }
      ]
    },
    {
      "cell_type": "code",
      "source": [
        "Y_pred=Linear_model.predict(X_test)\n",
        "Y_pred"
      ],
      "metadata": {
        "id": "iEi57J-MI3VT",
        "outputId": "465ab953-486d-45f7-895d-9cdda0f94cd4",
        "colab": {
          "base_uri": "https://localhost:8080/"
        }
      },
      "execution_count": 87,
      "outputs": [
        {
          "output_type": "execute_result",
          "data": {
            "text/plain": [
              "array([ 0.01466802,  0.0153773 ,  0.01159715,  0.01630733,  0.0192969 ,\n",
              "        0.01611748,  0.01433202,  0.01158114,  0.01439476,  0.01108074,\n",
              "        0.01436822,  0.01436419,  0.01322768,  0.01448888,  0.01485338,\n",
              "        0.01189777,  0.01636082,  0.01448171,  0.01307996,  0.01511927,\n",
              "        0.01535345,  0.01595935,  0.01253847,  0.0147294 ,  0.01513351,\n",
              "        0.01450186,  0.01009461,  0.00862464,  0.0172637 ,  0.01460064,\n",
              "        0.01461408,  0.01470217,  0.01320785,  0.0223711 ,  0.01671031,\n",
              "        0.01606502,  0.01870919,  0.01474551,  0.01438737,  0.01616188,\n",
              "        0.09409823,  0.02146293,  0.05743547,  0.01633563,  0.04207082,\n",
              "        0.01623333,  0.03155334,  0.01684307,  0.01240919,  0.01436466,\n",
              "        0.01917719,  0.01437997,  0.01631219,  0.01898849,  0.01793634,\n",
              "        0.01229025,  0.01450952,  0.01655672,  0.01608831,  0.01621584,\n",
              "        0.01637725,  0.01457667,  0.01856355,  0.01526793,  0.02659358,\n",
              "        0.01439066,  0.01464553,  0.02283617,  0.01525198,  0.01761646,\n",
              "        0.01655804,  0.01674818,  0.0154395 ,  0.01370884,  0.08907353,\n",
              "        0.01254113,  0.01452048,  0.01474679,  0.01435   ,  0.01457899,\n",
              "        0.01193316,  0.02267608,  0.02379098, -0.00024114,  0.01440327,\n",
              "        0.04072339])"
            ]
          },
          "metadata": {},
          "execution_count": 87
        }
      ]
    },
    {
      "cell_type": "markdown",
      "source": [
        "**Model Predictions:**\n",
        "\n",
        "---\n",
        "\n",
        "To predict the output I use the test data and observed the accuracy of the predicted price values.\n"
      ],
      "metadata": {
        "id": "hXlJrqX0DSyz"
      }
    },
    {
      "cell_type": "markdown",
      "source": [
        "**Model Evaluation:** \n",
        "\n",
        "---\n",
        "\n",
        "For model evaluation the Scikit-learn library is used to verify below errors.\n",
        "• R2 Metrics Score\n",
        "• Mean Absolute error\n",
        "• Mean squared error\n",
        "• Root mean squared error"
      ],
      "metadata": {
        "id": "2Xz4_69VEXDw"
      }
    },
    {
      "cell_type": "code",
      "source": [
        "from sklearn.metrics import mean_absolute_error \n",
        "from sklearn.metrics import r2_score\n",
        "\n",
        "absolute_error= mean_absolute_error(Y_test, Y_pred)\n",
        "sqrd_error=mean_squared_error(Y_test,Y_pred)\n",
        "mean_sqrd_error= np.sqrt(sqrd_error)\n",
        "test_set_r2 = r2_score(Y_test, Y_pred) # The closer towards 1 the better the fit is\n",
        "\n",
        "print(\"R2_metrics\",test_set_r2,\"Mean Absolute Error: \", absolute_error, \"Mean Squared Error: \",sqrd_error, \" Root Mean Squared Error: \",mean_sqrd_error)\n"
      ],
      "metadata": {
        "id": "MPLA6UrLJVbu",
        "outputId": "412f7003-c473-43ce-ef37-aab335bf039c",
        "colab": {
          "base_uri": "https://localhost:8080/"
        }
      },
      "execution_count": 92,
      "outputs": [
        {
          "output_type": "stream",
          "name": "stdout",
          "text": [
            "R2_metrics 0.07886631072136618 Mean Absolute Error:  0.014262852952724094 Mean Squared Error:  0.000470710146850706  Root Mean Squared Error:  0.02169585552244267\n"
          ]
        }
      ]
    },
    {
      "cell_type": "code",
      "source": [
        ""
      ],
      "metadata": {
        "id": "vvebDDXfZygc"
      },
      "execution_count": 91,
      "outputs": []
    },
    {
      "cell_type": "markdown",
      "source": [
        "**Visualizations drawn from observations:**\n",
        "\n",
        "---\n",
        "\n",
        "For this models data visualization purpose I used seaborn library\n"
      ],
      "metadata": {
        "id": "CI_1hZqYEkS8"
      }
    },
    {
      "cell_type": "code",
      "source": [
        "sns.regplot(Y_test,Y_pred, scatter_kws={\"color\": \"red\"}, line_kws={\"color\": \"green\"}).set(title='Testing Data Plot')"
      ],
      "metadata": {
        "id": "hAPznke-LS8T",
        "outputId": "50c767c1-dd8e-4ff1-c075-5aa8d063b88f",
        "colab": {
          "base_uri": "https://localhost:8080/",
          "height": 366
        }
      },
      "execution_count": 89,
      "outputs": [
        {
          "output_type": "stream",
          "name": "stderr",
          "text": [
            "/usr/local/lib/python3.7/dist-packages/seaborn/_decorators.py:43: FutureWarning: Pass the following variables as keyword args: x, y. From version 0.12, the only valid positional argument will be `data`, and passing other arguments without an explicit keyword will result in an error or misinterpretation.\n",
            "  FutureWarning\n"
          ]
        },
        {
          "output_type": "execute_result",
          "data": {
            "text/plain": [
              "[Text(0.5, 1.0, 'Testing Data Plot')]"
            ]
          },
          "metadata": {},
          "execution_count": 89
        },
        {
          "output_type": "display_data",
          "data": {
            "image/png": "[encoded data removed]",
            "text/plain": [
              "<Figure size 432x288 with 1 Axes>"
            ]
          },
          "metadata": {
            "needs_background": "light"
          }
        }
      ]
    },
    {
      "cell_type": "markdown",
      "source": [
        "**Multivariate Linear Regression Conclusion:**\n",
        "\n",
        "---\n",
        "\n",
        "The values are very close to the linear line, which minimizes the error to be a best fit model (based on the accuracy), our model is doing a good job for predicting values."
      ],
      "metadata": {
        "id": "dGBngUXRE0Mk"
      }
    }
  ],
  "metadata": {
    "colab": {
      "collapsed_sections": [],
      "name": "ShaikAssignment1",
      "provenance": [],
      "include_colab_link": true
    },
    "kernelspec": {
      "display_name": "Python 3",
      "name": "python3"
    }
  },
  "nbformat": 4,
  "nbformat_minor": 0
}