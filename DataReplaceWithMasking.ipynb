{
  "nbformat": 4,
  "nbformat_minor": 0,
  "metadata": {
    "colab": {
      "name": "Untitled58.ipynb",
      "provenance": [],
      "authorship_tag": "ABX9TyNakDN/tAHnve0ZwiGbotBr",
      "include_colab_link": true
    },
    "kernelspec": {
      "name": "python3",
      "display_name": "Python 3"
    },
    "language_info": {
      "name": "python"
    }
  },
  "cells": [
    {
      "cell_type": "markdown",
      "metadata": {
        "id": "view-in-github",
        "colab_type": "text"
      },
      "source": [
        "<a href=\"https://colab.research.google.com/github/Nagmashaik123/Legal-SA/blob/main/DataReplaceWithMasking.ipynb\" target=\"_parent\"><img src=\"https://colab.research.google.com/assets/colab-badge.svg\" alt=\"Open In Colab\"/></a>"
      ]
    },
    {
      "cell_type": "code",
      "metadata": {
        "id": "j8E6x0ZNUAQA"
      },
      "source": [
        "import pandas as pd\n",
        "import re\n",
        "\n",
        "df = pd.read_csv(\"SigmaLaw-ABSA-train.csv\")\n",
        "file = open(\"SigmaLaw-ABSA-train.txt\", \"a+\")\n",
        "count=0\n",
        "for index, row in df.iterrows():\n",
        "    count=count+1\n",
        "\n",
        "    sentence = row[\"Sentence\"]\n",
        "    sentiment = row[\"Sentiment\"]\n",
        "    aspect = row[\"Party\"]\n",
        "    print(count)\n",
        "\n",
        "    regex1 = re.compile(r'\\b' + aspect + '\\'s' + r'\\b', re.IGNORECASE)\n",
        "    matched1 = regex1.search(sentence)\n",
        "    regex2 = re.compile(r'\\b' + aspect + r'\\b', re.IGNORECASE)\n",
        "    matched2 = regex2.search(sentence)\n",
        "\n",
        "    if matched1 is not None and bool(matched1.group()):\n",
        "        newSentence = re.sub(r'\\b' + aspect + '\\'s' + r'\\b', \"$T$\", sentence, count=1, flags=re.I)\n",
        "        file.write(newSentence)\n",
        "        file.write(\"\\n\")\n",
        "        file.write(aspect)\n",
        "        file.write(\"\\n\")\n",
        "        file.write(str(sentiment))\n",
        "        file.write(\"\\n\")\n",
        "\n",
        "    else:\n",
        "        if matched2 is not None and bool(matched2.group()):\n",
        "            newSentence = re.sub(r'\\b' + aspect + r'\\b', \"$T$\", sentence, count=1, flags=re.I)\n",
        "            file.write(newSentence)\n",
        "            file.write(\"\\n\")\n",
        "            file.write(aspect)\n",
        "            file.write(\"\\n\")\n",
        "            file.write(str(sentiment))\n",
        "            file.write(\"\\n\")\n",
        "\n",
        "file.close()\n",
        "\n"
      ],
      "execution_count": null,
      "outputs": []
    }
  ]
}